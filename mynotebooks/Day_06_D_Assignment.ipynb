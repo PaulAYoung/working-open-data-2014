{
 "metadata": {
  "name": ""
 },
 "nbformat": 3,
 "nbformat_minor": 0,
 "worksheets": [
  {
   "cells": [
    {
     "cell_type": "code",
     "collapsed": false,
     "input": [
      "import pandas as pd\n",
      "from pandas import DataFrame\n",
      "\n",
      "import census\n",
      "import settings\n",
      "import us\n",
      "\n",
      "from itertools import islice\n",
      "\n",
      "# instantiate the census object\n",
      "\n",
      "c=census.Census(settings.CENSUS_KEY)\n"
     ],
     "language": "python",
     "metadata": {},
     "outputs": [],
     "prompt_number": 1
    },
    {
     "cell_type": "code",
     "collapsed": false,
     "input": [
      "## EXERCISE\n",
      "## FILL in with your generator for all census places in the 2010 census \n",
      "\n",
      "\n",
      "def places(variables=\"NAME\"):\n",
      "    state_fips = set([s.fips for s in us.states.STATES])\n",
      "    for fip in state_fips:\n",
      "        for place in c.sf1.state_place(variables, fip, census.ALL):\n",
      "            yield place"
     ],
     "language": "python",
     "metadata": {},
     "outputs": [],
     "prompt_number": 2
    },
    {
     "cell_type": "code",
     "collapsed": false,
     "input": [
      "# use this code to run your code\n",
      "# I recommend replacing the None in islice to a small number to make sure you're on \n",
      "# the right track\n",
      "\n",
      "r = list(islice(places(\"NAME,P0010001\"), None))\n",
      "places_df = DataFrame(r)\n",
      "places_df.P0010001 = places_df.P0010001.astype('int')\n",
      "\n",
      "places_df['FIPS'] = places_df.apply(lambda s: s['state']+s['place'], axis=1)\n",
      "\n",
      "print \"number of places\", len(places_df)\n",
      "print \"total pop\", places_df.P0010001.sum()\n",
      "places_df.head()"
     ],
     "language": "python",
     "metadata": {},
     "outputs": [
      {
       "output_type": "stream",
       "stream": "stdout",
       "text": [
        "number of places 29261\n",
        "total pop 228457238\n"
       ]
      },
      {
       "html": [
        "<div style=\"max-height:1000px;max-width:1500px;overflow:auto;\">\n",
        "<table border=\"1\" class=\"dataframe\">\n",
        "  <thead>\n",
        "    <tr style=\"text-align: right;\">\n",
        "      <th></th>\n",
        "      <th>NAME</th>\n",
        "      <th>P0010001</th>\n",
        "      <th>place</th>\n",
        "      <th>state</th>\n",
        "      <th>FIPS</th>\n",
        "    </tr>\n",
        "  </thead>\n",
        "  <tbody>\n",
        "    <tr>\n",
        "      <th>0</th>\n",
        "      <td> Absarokee CDP</td>\n",
        "      <td> 1150</td>\n",
        "      <td> 00175</td>\n",
        "      <td> 30</td>\n",
        "      <td> 3000175</td>\n",
        "    </tr>\n",
        "    <tr>\n",
        "      <th>1</th>\n",
        "      <td> Alberton town</td>\n",
        "      <td>  420</td>\n",
        "      <td> 00700</td>\n",
        "      <td> 30</td>\n",
        "      <td> 3000700</td>\n",
        "    </tr>\n",
        "    <tr>\n",
        "      <th>2</th>\n",
        "      <td>     Alder CDP</td>\n",
        "      <td>  103</td>\n",
        "      <td> 00850</td>\n",
        "      <td> 30</td>\n",
        "      <td> 3000850</td>\n",
        "    </tr>\n",
        "    <tr>\n",
        "      <th>3</th>\n",
        "      <td>    Alzada CDP</td>\n",
        "      <td>   29</td>\n",
        "      <td> 01300</td>\n",
        "      <td> 30</td>\n",
        "      <td> 3001300</td>\n",
        "    </tr>\n",
        "    <tr>\n",
        "      <th>4</th>\n",
        "      <td> Amsterdam CDP</td>\n",
        "      <td>  180</td>\n",
        "      <td> 01525</td>\n",
        "      <td> 30</td>\n",
        "      <td> 3001525</td>\n",
        "    </tr>\n",
        "  </tbody>\n",
        "</table>\n",
        "</div>"
       ],
       "metadata": {},
       "output_type": "pyout",
       "prompt_number": 3,
       "text": [
        "            NAME  P0010001  place state     FIPS\n",
        "0  Absarokee CDP      1150  00175    30  3000175\n",
        "1  Alberton town       420  00700    30  3000700\n",
        "2      Alder CDP       103  00850    30  3000850\n",
        "3     Alzada CDP        29  01300    30  3001300\n",
        "4  Amsterdam CDP       180  01525    30  3001525"
       ]
      }
     ],
     "prompt_number": 3
    },
    {
     "cell_type": "code",
     "collapsed": false,
     "input": [
      "# if you've done this correctly, the following asserts should stop complaining\n",
      "\n",
      "assert places_df.P0010001.sum() == 228457238\n",
      "# number of places in 2010 Census\n",
      "assert len(places_df) == 29261"
     ],
     "language": "python",
     "metadata": {},
     "outputs": [],
     "prompt_number": 4
    }
   ],
   "metadata": {}
  }
 ]
}