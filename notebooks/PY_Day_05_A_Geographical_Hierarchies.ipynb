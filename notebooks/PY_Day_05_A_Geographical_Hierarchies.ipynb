{
 "metadata": {
  "name": ""
 },
 "nbformat": 3,
 "nbformat_minor": 0,
 "worksheets": [
  {
   "cells": [
    {
     "cell_type": "code",
     "collapsed": false,
     "input": [
      "# our usual pylab import\n",
      "%pylab --no-import-all inline"
     ],
     "language": "python",
     "metadata": {},
     "outputs": [
      {
       "output_type": "stream",
       "stream": "stdout",
       "text": [
        "Populating the interactive namespace from numpy and matplotlib\n"
       ]
      }
     ],
     "prompt_number": 1
    },
    {
     "cell_type": "heading",
     "level": 1,
     "metadata": {},
     "source": [
      "Goal"
     ]
    },
    {
     "cell_type": "markdown",
     "metadata": {},
     "source": [
      "For background, see [Mapping Census Data](http://www.udel.edu/johnmack/frec682/census/), including the \n",
      "[scan of the 10-question form](http://www.udel.edu/johnmack/frec682/census/census_form.png).  Keep in mind what people were asked and the range of data available in the census.\n",
      "\n",
      "Using the census API to get an understanding of some of the geographic entities in the **2010 census**.  We'll specifically be using the variable `P0010001`, the total population.  \n",
      "\n",
      "What you will do in this notebook:\n",
      "\n",
      " * Sum the population of the **states** (or state-like entity like DC) to get the total population of the **nation**\n",
      " * Add up the **counties** for each **state** and validate the sums\n",
      " * Add up the **census tracts** for each **county** and validate the sums\n",
      " \n",
      "We will make use of `pandas` in this notebook."
     ]
    },
    {
     "cell_type": "markdown",
     "metadata": {},
     "source": [
      "I often have the following [diagram](http://www.census.gov/geo/reference/pdfs/geodiagram.pdf) in mind to help understand the relationship among entities.  Also use the [list of example URLs](http://api.census.gov/data/2010/sf1/geo.html)  -- it'll come in handy."
     ]
    },
    {
     "cell_type": "markdown",
     "metadata": {},
     "source": [
      "<a href=\"http://www.flickr.com/photos/raymondyee/12297467734/\" title=\"Census Geographic Hierarchies by Raymond Yee, on Flickr\"><img src=\"http://farm4.staticflickr.com/3702/12297467734_af8882d310_c.jpg\" width=\"618\" height=\"800\" alt=\"Census Geographic Hierarchies\"></a>"
     ]
    },
    {
     "cell_type": "heading",
     "level": 1,
     "metadata": {},
     "source": [
      "Working out the geographical hierarchy for Cafe Milano"
     ]
    },
    {
     "cell_type": "markdown",
     "metadata": {},
     "source": [
      "It's helpful to have a concrete instance of a place to work with, especially when dealing with rather intangible entities like census tracts, block groups, and blocks.  You can use the [American FactFinder](http://factfinder2.census.gov/faces/nav/jsf/pages/index.xhtml) site to look up for any given US address the corresponding census geographies.  \n",
      "\n",
      "Let's use Cafe Milano in Berkeley as an example. You can verify the following results by typing in the address into http://factfinder2.census.gov/faces/nav/jsf/pages/searchresults.xhtml?refresh=t.  \n",
      "\n",
      "https://www.evernote.com/shard/s1/sh/dc0bfb96-4965-4fbf-bc28-c9d4d0080782/2bd8c92a045d62521723347d62fa2b9d\n",
      "\n",
      "2522 Bancroft Way, BERKELEY, CA, 94704\n",
      "\n",
      "* State: California\n",
      "* County: Alameda County\n",
      "* County Subdivision: Berkeley CCD, Alameda County, California\n",
      "* Census Tract: Census Tract 4228, Alameda County, California\n",
      "* Block Group: Block Group 1, Census Tract 4228, Alameda County, California\n",
      "* Block: Block 1001, Block Group 1, Census Tract 4228, Alameda County, California\n",
      "\n"
     ]
    },
    {
     "cell_type": "code",
     "collapsed": false,
     "input": [
      "# YouTube video I made on how to use the American Factfinder site to look up addresses\n",
      "from IPython.display import YouTubeVideo\n",
      "YouTubeVideo('HeXcliUx96Y')"
     ],
     "language": "python",
     "metadata": {},
     "outputs": [
      {
       "html": [
        "\n",
        "        <iframe\n",
        "            width=\"400\"\n",
        "            height=300\"\n",
        "            src=\"http://www.youtube.com/embed/HeXcliUx96Y\"\n",
        "            frameborder=\"0\"\n",
        "            allowfullscreen\n",
        "        ></iframe>\n",
        "        "
       ],
       "metadata": {},
       "output_type": "pyout",
       "prompt_number": 2,
       "text": [
        "<IPython.lib.display.YouTubeVideo at 0x2efebd0>"
       ]
      }
     ],
     "prompt_number": 2
    },
    {
     "cell_type": "code",
     "collapsed": false,
     "input": [
      "#  standard numpy, pandas, matplotlib imports\n",
      "\n",
      "import numpy as np\n",
      "import matplotlib.pyplot as plt\n",
      "from pandas import DataFrame, Series, Index\n",
      "import pandas as pd"
     ],
     "language": "python",
     "metadata": {},
     "outputs": [],
     "prompt_number": 3
    },
    {
     "cell_type": "code",
     "collapsed": false,
     "input": [
      "# check that CENSUS_KEY is defined\n",
      "import census\n",
      "import us\n",
      "\n",
      "import requests\n",
      "\n",
      "import settings\n",
      "assert settings.CENSUS_KEY is not None"
     ],
     "language": "python",
     "metadata": {},
     "outputs": [],
     "prompt_number": 4
    },
    {
     "cell_type": "markdown",
     "metadata": {},
     "source": [
      "The census documentation has example URLs but needs your API key to work.  In this notebook, we'll use the IPython notebook HTML display mechanism to help out.\n"
     ]
    },
    {
     "cell_type": "code",
     "collapsed": false,
     "input": [
      "c = census.Census(key=settings.CENSUS_KEY)"
     ],
     "language": "python",
     "metadata": {},
     "outputs": [],
     "prompt_number": 5
    },
    {
     "cell_type": "markdown",
     "metadata": {},
     "source": [
      "Note:  we can use `c.sf1` to access 2010 census (SF1: Census Summary File 1 (2010, 2000, 1990) available in API -- 2010 is the default)\n",
      "\n",
      "see documentation: [sunlightlabs/census](https://github.com/sunlightlabs/census)"
     ]
    },
    {
     "cell_type": "heading",
     "level": 1,
     "metadata": {},
     "source": [
      "Summing up populations by state    "
     ]
    },
    {
     "cell_type": "markdown",
     "metadata": {},
     "source": [
      "Let's make a `DataFrame` named `states_df` with columns `NAME`, `P0010001` (for population), and `state` (to hold the FIPS code).  **Make sure to exclude Puerto Rico.**"
     ]
    },
    {
     "cell_type": "code",
     "collapsed": false,
     "input": [
      "# call the API and instantiate `df`\n",
      "df = DataFrame(c.sf1.get('NAME,P0010001', geo={'for':'state:*'}))\n",
      "# convert the population to integer\n",
      "df['P0010001'] = df['P0010001'].astype(np.int)\n",
      "df.head()"
     ],
     "language": "python",
     "metadata": {},
     "outputs": [
      {
       "html": [
        "<div style=\"max-height:1000px;max-width:1500px;overflow:auto;\">\n",
        "<table border=\"1\" class=\"dataframe\">\n",
        "  <thead>\n",
        "    <tr style=\"text-align: right;\">\n",
        "      <th></th>\n",
        "      <th>NAME</th>\n",
        "      <th>P0010001</th>\n",
        "      <th>state</th>\n",
        "    </tr>\n",
        "  </thead>\n",
        "  <tbody>\n",
        "    <tr>\n",
        "      <th>0</th>\n",
        "      <td>    Alabama</td>\n",
        "      <td>  4779736</td>\n",
        "      <td> 01</td>\n",
        "    </tr>\n",
        "    <tr>\n",
        "      <th>1</th>\n",
        "      <td>     Alaska</td>\n",
        "      <td>   710231</td>\n",
        "      <td> 02</td>\n",
        "    </tr>\n",
        "    <tr>\n",
        "      <th>2</th>\n",
        "      <td>    Arizona</td>\n",
        "      <td>  6392017</td>\n",
        "      <td> 04</td>\n",
        "    </tr>\n",
        "    <tr>\n",
        "      <th>3</th>\n",
        "      <td>   Arkansas</td>\n",
        "      <td>  2915918</td>\n",
        "      <td> 05</td>\n",
        "    </tr>\n",
        "    <tr>\n",
        "      <th>4</th>\n",
        "      <td> California</td>\n",
        "      <td> 37253956</td>\n",
        "      <td> 06</td>\n",
        "    </tr>\n",
        "  </tbody>\n",
        "</table>\n",
        "</div>"
       ],
       "metadata": {},
       "output_type": "pyout",
       "prompt_number": 6,
       "text": [
        "         NAME  P0010001 state\n",
        "0     Alabama   4779736    01\n",
        "1      Alaska    710231    02\n",
        "2     Arizona   6392017    04\n",
        "3    Arkansas   2915918    05\n",
        "4  California  37253956    06"
       ]
      },
      {
       "html": [
        "<div style=\"max-height:1000px;max-width:1500px;overflow:auto;\">\n",
        "<table border=\"1\" class=\"dataframe\">\n",
        "  <thead>\n",
        "    <tr style=\"text-align: right;\">\n",
        "      <th></th>\n",
        "      <th>NAME</th>\n",
        "      <th>P0010001</th>\n",
        "      <th>state</th>\n",
        "    </tr>\n",
        "  </thead>\n",
        "  <tbody>\n",
        "    <tr>\n",
        "      <th>0</th>\n",
        "      <td>    Alabama</td>\n",
        "      <td>  4779736</td>\n",
        "      <td> 01</td>\n",
        "    </tr>\n",
        "    <tr>\n",
        "      <th>1</th>\n",
        "      <td>     Alaska</td>\n",
        "      <td>   710231</td>\n",
        "      <td> 02</td>\n",
        "    </tr>\n",
        "    <tr>\n",
        "      <th>2</th>\n",
        "      <td>    Arizona</td>\n",
        "      <td>  6392017</td>\n",
        "      <td> 04</td>\n",
        "    </tr>\n",
        "    <tr>\n",
        "      <th>3</th>\n",
        "      <td>   Arkansas</td>\n",
        "      <td>  2915918</td>\n",
        "      <td> 05</td>\n",
        "    </tr>\n",
        "    <tr>\n",
        "      <th>4</th>\n",
        "      <td> California</td>\n",
        "      <td> 37253956</td>\n",
        "      <td> 06</td>\n",
        "    </tr>\n",
        "  </tbody>\n",
        "</table>\n",
        "</div>"
       ],
       "metadata": {},
       "output_type": "pyout",
       "prompt_number": 7,
       "text": [
        "         NAME  P0010001 state\n",
        "0     Alabama   4779736    01\n",
        "1      Alaska    710231    02\n",
        "2     Arizona   6392017    04\n",
        "3    Arkansas   2915918    05\n",
        "4  California  37253956    06"
       ]
      }
     ],
     "prompt_number": 7
    },
    {
     "cell_type": "markdown",
     "metadata": {},
     "source": [
      "You can filter Puerto Rico (PR) in a number of ways -- use the way you're most comfortable with. \n",
      "\n",
      "Optional fun: filter PR in the following way\n",
      "\n",
      "* calculate a `np.array` holding the the fips of the states\n",
      "* then use [numpy.in1d](http://docs.scipy.org/doc/numpy/reference/generated/numpy.in1d.html), which is a analogous to the [in](http://stackoverflow.com/a/3437130/7782) operator to test membership in a list"
     ]
    },
    {
     "cell_type": "code",
     "collapsed": false,
     "input": [
      "states_df = df[df['NAME'] != 'Puerto Rico']"
     ],
     "language": "python",
     "metadata": {},
     "outputs": [],
     "prompt_number": 18
    },
    {
     "cell_type": "markdown",
     "metadata": {},
     "source": [
      "If `states_df` is calculated properly, the following asserts will pass silently."
     ]
    },
    {
     "cell_type": "code",
     "collapsed": false,
     "input": [
      "# check that we have three columns\n",
      "assert set(states_df.columns) == set((u'NAME', u'P0010001', u'state'))\n",
      "\n",
      "# check that the total 2010 census population is correct\n",
      "assert np.sum(states_df.P0010001) == 308745538 \n",
      "\n",
      "# check that the number of states+DC is 51\n",
      "assert len(states_df) == 51\n",
      "\n",
      "# fheck that ouert rico is not in states_df\n",
      "assert 0 ==len(states_df[states_df['NAME'] == \"Puerto Rico\"])"
     ],
     "language": "python",
     "metadata": {},
     "outputs": [],
     "prompt_number": 33
    },
    {
     "cell_type": "heading",
     "level": 1,
     "metadata": {},
     "source": [
      "Counties"
     ]
    },
    {
     "cell_type": "markdown",
     "metadata": {},
     "source": [
      "Looking at http://api.census.gov/data/2010/sf1/geo.html, we see\n",
      "\n",
      "    state-county: http://api.census.gov/data/2010/sf1?get=P0010001&for=county:*\n",
      "    \n",
      "if we want to grab all counties in one go, or you can grab counties state-by-state:\n",
      "\n",
      "    http://api.census.gov/data/2010/sf1?get=P0010001&for=county:*&in=state:06\n",
      "    \n",
      "for all counties in the state with FIPS code `06` (which is what state?)"
     ]
    },
    {
     "cell_type": "code",
     "collapsed": false,
     "input": [
      "# Here's a way to use translate \n",
      "# http://api.census.gov/data/2010/sf1?get=P0010001&for=county:*\n",
      "# into a call using the census.Census object\n",
      "\n",
      "r = c.sf1.get('NAME,P0010001', geo={'for':'county:*'})\n",
      "\n",
      "# ask yourself what len(r) means and what it should be\n",
      "len(r)"
     ],
     "language": "python",
     "metadata": {},
     "outputs": [
      {
       "metadata": {},
       "output_type": "pyout",
       "prompt_number": 34,
       "text": [
        "3221"
       ]
      }
     ],
     "prompt_number": 34
    },
    {
     "cell_type": "code",
     "collapsed": false,
     "input": [
      "# let's try out one of the `census` object convenience methods\n",
      "# instead of using `c.sf1.get`\n",
      "\n",
      "r = c.sf1.state_county('NAME,P0010001',census.ALL,census.ALL)"
     ],
     "language": "python",
     "metadata": {},
     "outputs": [],
     "prompt_number": 69
    },
    {
     "cell_type": "code",
     "collapsed": false,
     "input": [
      "# convert the json from the API into a DataFrame\n",
      "# coerce to integer the P0010001 column\n",
      "\n",
      "df = DataFrame(r)\n",
      "df['P0010001'] = df['P0010001'].astype('int')\n",
      "\n",
      "# display the first records\n",
      "df.head()"
     ],
     "language": "python",
     "metadata": {},
     "outputs": [
      {
       "html": [
        "<div style=\"max-height:1000px;max-width:1500px;overflow:auto;\">\n",
        "<table border=\"1\" class=\"dataframe\">\n",
        "  <thead>\n",
        "    <tr style=\"text-align: right;\">\n",
        "      <th></th>\n",
        "      <th>NAME</th>\n",
        "      <th>P0010001</th>\n",
        "      <th>county</th>\n",
        "      <th>state</th>\n",
        "    </tr>\n",
        "  </thead>\n",
        "  <tbody>\n",
        "    <tr>\n",
        "      <th>0</th>\n",
        "      <td> Autauga County</td>\n",
        "      <td>  54571</td>\n",
        "      <td> 001</td>\n",
        "      <td> 01</td>\n",
        "    </tr>\n",
        "    <tr>\n",
        "      <th>1</th>\n",
        "      <td> Baldwin County</td>\n",
        "      <td> 182265</td>\n",
        "      <td> 003</td>\n",
        "      <td> 01</td>\n",
        "    </tr>\n",
        "    <tr>\n",
        "      <th>2</th>\n",
        "      <td> Barbour County</td>\n",
        "      <td>  27457</td>\n",
        "      <td> 005</td>\n",
        "      <td> 01</td>\n",
        "    </tr>\n",
        "    <tr>\n",
        "      <th>3</th>\n",
        "      <td>    Bibb County</td>\n",
        "      <td>  22915</td>\n",
        "      <td> 007</td>\n",
        "      <td> 01</td>\n",
        "    </tr>\n",
        "    <tr>\n",
        "      <th>4</th>\n",
        "      <td>  Blount County</td>\n",
        "      <td>  57322</td>\n",
        "      <td> 009</td>\n",
        "      <td> 01</td>\n",
        "    </tr>\n",
        "  </tbody>\n",
        "</table>\n",
        "</div>"
       ],
       "metadata": {},
       "output_type": "pyout",
       "prompt_number": 70,
       "text": [
        "             NAME  P0010001 county state\n",
        "0  Autauga County     54571    001    01\n",
        "1  Baldwin County    182265    003    01\n",
        "2  Barbour County     27457    005    01\n",
        "3     Bibb County     22915    007    01\n",
        "4   Blount County     57322    009    01"
       ]
      }
     ],
     "prompt_number": 70
    },
    {
     "cell_type": "code",
     "collapsed": false,
     "input": [
      "# calculate the total population \n",
      "# what happens when you google the number you get?\n",
      "\n",
      "np.sum(df['P0010001'])"
     ],
     "language": "python",
     "metadata": {},
     "outputs": [
      {
       "metadata": {},
       "output_type": "pyout",
       "prompt_number": 71,
       "text": [
        "312471327"
       ]
      }
     ],
     "prompt_number": 71
    },
    {
     "cell_type": "code",
     "collapsed": false,
     "input": [
      "# often you can use dot notation to access a DataFrame column\n",
      "df.P0010001.head()"
     ],
     "language": "python",
     "metadata": {},
     "outputs": [
      {
       "metadata": {},
       "output_type": "pyout",
       "prompt_number": 72,
       "text": [
        "0     54571\n",
        "1    182265\n",
        "2     27457\n",
        "3     22915\n",
        "4     57322\n",
        "Name: P0010001, dtype: int64"
       ]
      }
     ],
     "prompt_number": 72
    },
    {
     "cell_type": "code",
     "collapsed": false,
     "input": [
      "## FILL IN\n",
      "## compute counties_df\n",
      "## counties_df should have same columns as df\n",
      "## filter out PR -- what's the total population now\n",
      "counties_df = df[df.state != us.states.PR.fips]\n",
      "\n"
     ],
     "language": "python",
     "metadata": {},
     "outputs": [],
     "prompt_number": 73
    },
    {
     "cell_type": "markdown",
     "metadata": {},
     "source": [
      "Check properties of `counties_df`"
     ]
    },
    {
     "cell_type": "code",
     "collapsed": false,
     "input": [
      "# number of counties\n",
      "assert len(counties_df) == 3143 #3143 county/county-equivs in US"
     ],
     "language": "python",
     "metadata": {},
     "outputs": [],
     "prompt_number": 74
    },
    {
     "cell_type": "code",
     "collapsed": false,
     "input": [
      "# check that the total population by adding all counties == population by adding all states\n",
      "\n",
      "assert np.sum(counties_df['P0010001']) == np.sum(states_df.P0010001)"
     ],
     "language": "python",
     "metadata": {},
     "outputs": [],
     "prompt_number": 75
    },
    {
     "cell_type": "code",
     "collapsed": false,
     "input": [
      "# check we have same columns between counties_df and df\n",
      "set(counties_df.columns) == set(df.columns)"
     ],
     "language": "python",
     "metadata": {},
     "outputs": [
      {
       "metadata": {},
       "output_type": "pyout",
       "prompt_number": 76,
       "text": [
        "True"
       ]
      }
     ],
     "prompt_number": 76
    },
    {
     "cell_type": "heading",
     "level": 1,
     "metadata": {},
     "source": [
      "Using FIPS code as the Index"
     ]
    },
    {
     "cell_type": "markdown",
     "metadata": {},
     "source": [
      "From [Mapping Census Data](http://www.udel.edu/johnmack/frec682/census/):\n",
      "\n",
      "* Each state (SUMLEV = 040) has a 2-digit FIPS ID; Delaware's is 10.\n",
      "* Each county (SUMLEV = 050) within a state has a 3-digit FIPS ID, appended to the 2-digit state ID. New Castle County, Delaware, has FIPS ID 10003.\n",
      "* Each Census Tract (SUMLEV = 140) within a county has a 6-digit ID, appended to the county code. The Tract in New Castle County DE that contains most of the the UD campus has FIPS ID 10003014502.\n",
      "* Each Block Group (SUMLEV = 150) within a Tract has a single digit ID appended to the Tract ID. The center of campus in the northwest corner of the tract is Block Group100030145022.\n",
      "* Each Block (SUMLEV = 750) within a Block Group is identified by three more digits appended to the Block Group ID. Pearson Hall is located in Block 100030145022009."
     ]
    },
    {
     "cell_type": "code",
     "collapsed": false,
     "input": [
      "# take a look at the current structure of counties_df\n",
      "\n",
      "counties_df.head()"
     ],
     "language": "python",
     "metadata": {},
     "outputs": [
      {
       "html": [
        "<div style=\"max-height:1000px;max-width:1500px;overflow:auto;\">\n",
        "<table border=\"1\" class=\"dataframe\">\n",
        "  <thead>\n",
        "    <tr style=\"text-align: right;\">\n",
        "      <th></th>\n",
        "      <th>NAME</th>\n",
        "      <th>P0010001</th>\n",
        "      <th>county</th>\n",
        "      <th>state</th>\n",
        "    </tr>\n",
        "  </thead>\n",
        "  <tbody>\n",
        "    <tr>\n",
        "      <th>0</th>\n",
        "      <td> Autauga County</td>\n",
        "      <td>  54571</td>\n",
        "      <td> 001</td>\n",
        "      <td> 01</td>\n",
        "    </tr>\n",
        "    <tr>\n",
        "      <th>1</th>\n",
        "      <td> Baldwin County</td>\n",
        "      <td> 182265</td>\n",
        "      <td> 003</td>\n",
        "      <td> 01</td>\n",
        "    </tr>\n",
        "    <tr>\n",
        "      <th>2</th>\n",
        "      <td> Barbour County</td>\n",
        "      <td>  27457</td>\n",
        "      <td> 005</td>\n",
        "      <td> 01</td>\n",
        "    </tr>\n",
        "    <tr>\n",
        "      <th>3</th>\n",
        "      <td>    Bibb County</td>\n",
        "      <td>  22915</td>\n",
        "      <td> 007</td>\n",
        "      <td> 01</td>\n",
        "    </tr>\n",
        "    <tr>\n",
        "      <th>4</th>\n",
        "      <td>  Blount County</td>\n",
        "      <td>  57322</td>\n",
        "      <td> 009</td>\n",
        "      <td> 01</td>\n",
        "    </tr>\n",
        "  </tbody>\n",
        "</table>\n",
        "</div>"
       ],
       "metadata": {},
       "output_type": "pyout",
       "prompt_number": 77,
       "text": [
        "             NAME  P0010001 county state\n",
        "0  Autauga County     54571    001    01\n",
        "1  Baldwin County    182265    003    01\n",
        "2  Barbour County     27457    005    01\n",
        "3     Bibb County     22915    007    01\n",
        "4   Blount County     57322    009    01"
       ]
      }
     ],
     "prompt_number": 77
    },
    {
     "cell_type": "markdown",
     "metadata": {},
     "source": [
      "If you add all the counties on a state-by-state basisi, do you get the same populations for each state?\n",
      "\n",
      "* use `set_index` to make the FIPS code for the state the index for `states_df`\n",
      "* calculate the FIPS code for the counties and make the county FIPS code the index of of `county_fips`\n",
      "* use groupby on `counties_df` to compare the populations of states with that in `states_df`"
     ]
    },
    {
     "cell_type": "code",
     "collapsed": false,
     "input": [
      "## FILL IN\n",
      "states_df = states_df.set_index(\"state\")"
     ],
     "language": "python",
     "metadata": {},
     "outputs": [
      {
       "metadata": {},
       "output_type": "pyout",
       "prompt_number": 82,
       "text": [
        "u'06'"
       ]
      }
     ],
     "prompt_number": 82
    },
    {
     "cell_type": "code",
     "collapsed": false,
     "input": [
      "counties_df.apply(lambda s:s[\"state\"] + s[\"county\"], axis=1)"
     ],
     "language": "python",
     "metadata": {},
     "outputs": [
      {
       "metadata": {},
       "output_type": "pyout",
       "prompt_number": 111,
       "text": [
        "0     01001\n",
        "1     01003\n",
        "2     01005\n",
        "3     01007\n",
        "4     01009\n",
        "5     01011\n",
        "6     01013\n",
        "7     01015\n",
        "8     01017\n",
        "9     01019\n",
        "10    01021\n",
        "11    01023\n",
        "12    01025\n",
        "13    01027\n",
        "14    01029\n",
        "...\n",
        "3128    56017\n",
        "3129    56019\n",
        "3130    56021\n",
        "3131    56023\n",
        "3132    56025\n",
        "3133    56027\n",
        "3134    56029\n",
        "3135    56031\n",
        "3136    56033\n",
        "3137    56035\n",
        "3138    56037\n",
        "3139    56039\n",
        "3140    56041\n",
        "3141    56043\n",
        "3142    56045\n",
        "Length: 3143, dtype: object"
       ]
      }
     ],
     "prompt_number": 111
    },
    {
     "cell_type": "heading",
     "level": 1,
     "metadata": {},
     "source": [
      "Counties in California"
     ]
    },
    {
     "cell_type": "markdown",
     "metadata": {},
     "source": [
      "Let's look at home: California state and Alameda County"
     ]
    },
    {
     "cell_type": "code",
     "collapsed": false,
     "input": [
      "# boolean indexing to pull up California\n",
      "states_df[states_df.NAME == 'California']"
     ],
     "language": "python",
     "metadata": {},
     "outputs": [
      {
       "html": [
        "<div style=\"max-height:1000px;max-width:1500px;overflow:auto;\">\n",
        "<table border=\"1\" class=\"dataframe\">\n",
        "  <thead>\n",
        "    <tr style=\"text-align: right;\">\n",
        "      <th></th>\n",
        "      <th>NAME</th>\n",
        "      <th>P0010001</th>\n",
        "    </tr>\n",
        "    <tr>\n",
        "      <th>state</th>\n",
        "      <th></th>\n",
        "      <th></th>\n",
        "    </tr>\n",
        "  </thead>\n",
        "  <tbody>\n",
        "    <tr>\n",
        "      <th>06</th>\n",
        "      <td> California</td>\n",
        "      <td> 37253956</td>\n",
        "    </tr>\n",
        "  </tbody>\n",
        "</table>\n",
        "</div>"
       ],
       "metadata": {},
       "output_type": "pyout",
       "prompt_number": 83,
       "text": [
        "             NAME  P0010001\n",
        "state                      \n",
        "06     California  37253956"
       ]
      }
     ],
     "prompt_number": 83
    },
    {
     "cell_type": "code",
     "collapsed": false,
     "input": [
      "# use .ix -- most general indexing \n",
      "# http://pandas.pydata.org/pandas-docs/dev/indexing.html#different-choices-for-indexing-loc-iloc-and-ix\n",
      "states_df.ix['06']"
     ],
     "language": "python",
     "metadata": {},
     "outputs": [
      {
       "metadata": {},
       "output_type": "pyout",
       "prompt_number": 84,
       "text": [
        "NAME        California\n",
        "P0010001      37253956\n",
        "Name: 06, dtype: object"
       ]
      }
     ],
     "prompt_number": 84
    },
    {
     "cell_type": "code",
     "collapsed": false,
     "input": [
      "# California counties\n",
      "\n",
      "counties_df[counties_df.state=='06']"
     ],
     "language": "python",
     "metadata": {},
     "outputs": [
      {
       "html": [
        "<div style=\"max-height:1000px;max-width:1500px;overflow:auto;\">\n",
        "<table border=\"1\" class=\"dataframe\">\n",
        "  <thead>\n",
        "    <tr style=\"text-align: right;\">\n",
        "      <th></th>\n",
        "      <th>NAME</th>\n",
        "      <th>P0010001</th>\n",
        "      <th>county</th>\n",
        "      <th>state</th>\n",
        "    </tr>\n",
        "  </thead>\n",
        "  <tbody>\n",
        "    <tr>\n",
        "      <th>186</th>\n",
        "      <td>         Alameda County</td>\n",
        "      <td> 1510271</td>\n",
        "      <td> 001</td>\n",
        "      <td> 06</td>\n",
        "    </tr>\n",
        "    <tr>\n",
        "      <th>187</th>\n",
        "      <td>          Alpine County</td>\n",
        "      <td>    1175</td>\n",
        "      <td> 003</td>\n",
        "      <td> 06</td>\n",
        "    </tr>\n",
        "    <tr>\n",
        "      <th>188</th>\n",
        "      <td>          Amador County</td>\n",
        "      <td>   38091</td>\n",
        "      <td> 005</td>\n",
        "      <td> 06</td>\n",
        "    </tr>\n",
        "    <tr>\n",
        "      <th>189</th>\n",
        "      <td>           Butte County</td>\n",
        "      <td>  220000</td>\n",
        "      <td> 007</td>\n",
        "      <td> 06</td>\n",
        "    </tr>\n",
        "    <tr>\n",
        "      <th>190</th>\n",
        "      <td>       Calaveras County</td>\n",
        "      <td>   45578</td>\n",
        "      <td> 009</td>\n",
        "      <td> 06</td>\n",
        "    </tr>\n",
        "    <tr>\n",
        "      <th>191</th>\n",
        "      <td>          Colusa County</td>\n",
        "      <td>   21419</td>\n",
        "      <td> 011</td>\n",
        "      <td> 06</td>\n",
        "    </tr>\n",
        "    <tr>\n",
        "      <th>192</th>\n",
        "      <td>    Contra Costa County</td>\n",
        "      <td> 1049025</td>\n",
        "      <td> 013</td>\n",
        "      <td> 06</td>\n",
        "    </tr>\n",
        "    <tr>\n",
        "      <th>193</th>\n",
        "      <td>       Del Norte County</td>\n",
        "      <td>   28610</td>\n",
        "      <td> 015</td>\n",
        "      <td> 06</td>\n",
        "    </tr>\n",
        "    <tr>\n",
        "      <th>194</th>\n",
        "      <td>       El Dorado County</td>\n",
        "      <td>  181058</td>\n",
        "      <td> 017</td>\n",
        "      <td> 06</td>\n",
        "    </tr>\n",
        "    <tr>\n",
        "      <th>195</th>\n",
        "      <td>          Fresno County</td>\n",
        "      <td>  930450</td>\n",
        "      <td> 019</td>\n",
        "      <td> 06</td>\n",
        "    </tr>\n",
        "    <tr>\n",
        "      <th>196</th>\n",
        "      <td>           Glenn County</td>\n",
        "      <td>   28122</td>\n",
        "      <td> 021</td>\n",
        "      <td> 06</td>\n",
        "    </tr>\n",
        "    <tr>\n",
        "      <th>197</th>\n",
        "      <td>        Humboldt County</td>\n",
        "      <td>  134623</td>\n",
        "      <td> 023</td>\n",
        "      <td> 06</td>\n",
        "    </tr>\n",
        "    <tr>\n",
        "      <th>198</th>\n",
        "      <td>        Imperial County</td>\n",
        "      <td>  174528</td>\n",
        "      <td> 025</td>\n",
        "      <td> 06</td>\n",
        "    </tr>\n",
        "    <tr>\n",
        "      <th>199</th>\n",
        "      <td>            Inyo County</td>\n",
        "      <td>   18546</td>\n",
        "      <td> 027</td>\n",
        "      <td> 06</td>\n",
        "    </tr>\n",
        "    <tr>\n",
        "      <th>200</th>\n",
        "      <td>            Kern County</td>\n",
        "      <td>  839631</td>\n",
        "      <td> 029</td>\n",
        "      <td> 06</td>\n",
        "    </tr>\n",
        "    <tr>\n",
        "      <th>201</th>\n",
        "      <td>           Kings County</td>\n",
        "      <td>  152982</td>\n",
        "      <td> 031</td>\n",
        "      <td> 06</td>\n",
        "    </tr>\n",
        "    <tr>\n",
        "      <th>202</th>\n",
        "      <td>            Lake County</td>\n",
        "      <td>   64665</td>\n",
        "      <td> 033</td>\n",
        "      <td> 06</td>\n",
        "    </tr>\n",
        "    <tr>\n",
        "      <th>203</th>\n",
        "      <td>          Lassen County</td>\n",
        "      <td>   34895</td>\n",
        "      <td> 035</td>\n",
        "      <td> 06</td>\n",
        "    </tr>\n",
        "    <tr>\n",
        "      <th>204</th>\n",
        "      <td>     Los Angeles County</td>\n",
        "      <td> 9818605</td>\n",
        "      <td> 037</td>\n",
        "      <td> 06</td>\n",
        "    </tr>\n",
        "    <tr>\n",
        "      <th>205</th>\n",
        "      <td>          Madera County</td>\n",
        "      <td>  150865</td>\n",
        "      <td> 039</td>\n",
        "      <td> 06</td>\n",
        "    </tr>\n",
        "    <tr>\n",
        "      <th>206</th>\n",
        "      <td>           Marin County</td>\n",
        "      <td>  252409</td>\n",
        "      <td> 041</td>\n",
        "      <td> 06</td>\n",
        "    </tr>\n",
        "    <tr>\n",
        "      <th>207</th>\n",
        "      <td>        Mariposa County</td>\n",
        "      <td>   18251</td>\n",
        "      <td> 043</td>\n",
        "      <td> 06</td>\n",
        "    </tr>\n",
        "    <tr>\n",
        "      <th>208</th>\n",
        "      <td>       Mendocino County</td>\n",
        "      <td>   87841</td>\n",
        "      <td> 045</td>\n",
        "      <td> 06</td>\n",
        "    </tr>\n",
        "    <tr>\n",
        "      <th>209</th>\n",
        "      <td>          Merced County</td>\n",
        "      <td>  255793</td>\n",
        "      <td> 047</td>\n",
        "      <td> 06</td>\n",
        "    </tr>\n",
        "    <tr>\n",
        "      <th>210</th>\n",
        "      <td>           Modoc County</td>\n",
        "      <td>    9686</td>\n",
        "      <td> 049</td>\n",
        "      <td> 06</td>\n",
        "    </tr>\n",
        "    <tr>\n",
        "      <th>211</th>\n",
        "      <td>            Mono County</td>\n",
        "      <td>   14202</td>\n",
        "      <td> 051</td>\n",
        "      <td> 06</td>\n",
        "    </tr>\n",
        "    <tr>\n",
        "      <th>212</th>\n",
        "      <td>        Monterey County</td>\n",
        "      <td>  415057</td>\n",
        "      <td> 053</td>\n",
        "      <td> 06</td>\n",
        "    </tr>\n",
        "    <tr>\n",
        "      <th>213</th>\n",
        "      <td>            Napa County</td>\n",
        "      <td>  136484</td>\n",
        "      <td> 055</td>\n",
        "      <td> 06</td>\n",
        "    </tr>\n",
        "    <tr>\n",
        "      <th>214</th>\n",
        "      <td>          Nevada County</td>\n",
        "      <td>   98764</td>\n",
        "      <td> 057</td>\n",
        "      <td> 06</td>\n",
        "    </tr>\n",
        "    <tr>\n",
        "      <th>215</th>\n",
        "      <td>          Orange County</td>\n",
        "      <td> 3010232</td>\n",
        "      <td> 059</td>\n",
        "      <td> 06</td>\n",
        "    </tr>\n",
        "    <tr>\n",
        "      <th>216</th>\n",
        "      <td>          Placer County</td>\n",
        "      <td>  348432</td>\n",
        "      <td> 061</td>\n",
        "      <td> 06</td>\n",
        "    </tr>\n",
        "    <tr>\n",
        "      <th>217</th>\n",
        "      <td>          Plumas County</td>\n",
        "      <td>   20007</td>\n",
        "      <td> 063</td>\n",
        "      <td> 06</td>\n",
        "    </tr>\n",
        "    <tr>\n",
        "      <th>218</th>\n",
        "      <td>       Riverside County</td>\n",
        "      <td> 2189641</td>\n",
        "      <td> 065</td>\n",
        "      <td> 06</td>\n",
        "    </tr>\n",
        "    <tr>\n",
        "      <th>219</th>\n",
        "      <td>      Sacramento County</td>\n",
        "      <td> 1418788</td>\n",
        "      <td> 067</td>\n",
        "      <td> 06</td>\n",
        "    </tr>\n",
        "    <tr>\n",
        "      <th>220</th>\n",
        "      <td>      San Benito County</td>\n",
        "      <td>   55269</td>\n",
        "      <td> 069</td>\n",
        "      <td> 06</td>\n",
        "    </tr>\n",
        "    <tr>\n",
        "      <th>221</th>\n",
        "      <td>  San Bernardino County</td>\n",
        "      <td> 2035210</td>\n",
        "      <td> 071</td>\n",
        "      <td> 06</td>\n",
        "    </tr>\n",
        "    <tr>\n",
        "      <th>222</th>\n",
        "      <td>       San Diego County</td>\n",
        "      <td> 3095313</td>\n",
        "      <td> 073</td>\n",
        "      <td> 06</td>\n",
        "    </tr>\n",
        "    <tr>\n",
        "      <th>223</th>\n",
        "      <td>   San Francisco County</td>\n",
        "      <td>  805235</td>\n",
        "      <td> 075</td>\n",
        "      <td> 06</td>\n",
        "    </tr>\n",
        "    <tr>\n",
        "      <th>224</th>\n",
        "      <td>     San Joaquin County</td>\n",
        "      <td>  685306</td>\n",
        "      <td> 077</td>\n",
        "      <td> 06</td>\n",
        "    </tr>\n",
        "    <tr>\n",
        "      <th>225</th>\n",
        "      <td> San Luis Obispo County</td>\n",
        "      <td>  269637</td>\n",
        "      <td> 079</td>\n",
        "      <td> 06</td>\n",
        "    </tr>\n",
        "    <tr>\n",
        "      <th>226</th>\n",
        "      <td>       San Mateo County</td>\n",
        "      <td>  718451</td>\n",
        "      <td> 081</td>\n",
        "      <td> 06</td>\n",
        "    </tr>\n",
        "    <tr>\n",
        "      <th>227</th>\n",
        "      <td>   Santa Barbara County</td>\n",
        "      <td>  423895</td>\n",
        "      <td> 083</td>\n",
        "      <td> 06</td>\n",
        "    </tr>\n",
        "    <tr>\n",
        "      <th>228</th>\n",
        "      <td>     Santa Clara County</td>\n",
        "      <td> 1781642</td>\n",
        "      <td> 085</td>\n",
        "      <td> 06</td>\n",
        "    </tr>\n",
        "    <tr>\n",
        "      <th>229</th>\n",
        "      <td>      Santa Cruz County</td>\n",
        "      <td>  262382</td>\n",
        "      <td> 087</td>\n",
        "      <td> 06</td>\n",
        "    </tr>\n",
        "    <tr>\n",
        "      <th>230</th>\n",
        "      <td>          Shasta County</td>\n",
        "      <td>  177223</td>\n",
        "      <td> 089</td>\n",
        "      <td> 06</td>\n",
        "    </tr>\n",
        "    <tr>\n",
        "      <th>231</th>\n",
        "      <td>          Sierra County</td>\n",
        "      <td>    3240</td>\n",
        "      <td> 091</td>\n",
        "      <td> 06</td>\n",
        "    </tr>\n",
        "    <tr>\n",
        "      <th>232</th>\n",
        "      <td>        Siskiyou County</td>\n",
        "      <td>   44900</td>\n",
        "      <td> 093</td>\n",
        "      <td> 06</td>\n",
        "    </tr>\n",
        "    <tr>\n",
        "      <th>233</th>\n",
        "      <td>          Solano County</td>\n",
        "      <td>  413344</td>\n",
        "      <td> 095</td>\n",
        "      <td> 06</td>\n",
        "    </tr>\n",
        "    <tr>\n",
        "      <th>234</th>\n",
        "      <td>          Sonoma County</td>\n",
        "      <td>  483878</td>\n",
        "      <td> 097</td>\n",
        "      <td> 06</td>\n",
        "    </tr>\n",
        "    <tr>\n",
        "      <th>235</th>\n",
        "      <td>      Stanislaus County</td>\n",
        "      <td>  514453</td>\n",
        "      <td> 099</td>\n",
        "      <td> 06</td>\n",
        "    </tr>\n",
        "    <tr>\n",
        "      <th>236</th>\n",
        "      <td>          Sutter County</td>\n",
        "      <td>   94737</td>\n",
        "      <td> 101</td>\n",
        "      <td> 06</td>\n",
        "    </tr>\n",
        "    <tr>\n",
        "      <th>237</th>\n",
        "      <td>          Tehama County</td>\n",
        "      <td>   63463</td>\n",
        "      <td> 103</td>\n",
        "      <td> 06</td>\n",
        "    </tr>\n",
        "    <tr>\n",
        "      <th>238</th>\n",
        "      <td>         Trinity County</td>\n",
        "      <td>   13786</td>\n",
        "      <td> 105</td>\n",
        "      <td> 06</td>\n",
        "    </tr>\n",
        "    <tr>\n",
        "      <th>239</th>\n",
        "      <td>          Tulare County</td>\n",
        "      <td>  442179</td>\n",
        "      <td> 107</td>\n",
        "      <td> 06</td>\n",
        "    </tr>\n",
        "    <tr>\n",
        "      <th>240</th>\n",
        "      <td>        Tuolumne County</td>\n",
        "      <td>   55365</td>\n",
        "      <td> 109</td>\n",
        "      <td> 06</td>\n",
        "    </tr>\n",
        "    <tr>\n",
        "      <th>241</th>\n",
        "      <td>         Ventura County</td>\n",
        "      <td>  823318</td>\n",
        "      <td> 111</td>\n",
        "      <td> 06</td>\n",
        "    </tr>\n",
        "    <tr>\n",
        "      <th>242</th>\n",
        "      <td>            Yolo County</td>\n",
        "      <td>  200849</td>\n",
        "      <td> 113</td>\n",
        "      <td> 06</td>\n",
        "    </tr>\n",
        "    <tr>\n",
        "      <th>243</th>\n",
        "      <td>            Yuba County</td>\n",
        "      <td>   72155</td>\n",
        "      <td> 115</td>\n",
        "      <td> 06</td>\n",
        "    </tr>\n",
        "  </tbody>\n",
        "</table>\n",
        "</div>"
       ],
       "metadata": {},
       "output_type": "pyout",
       "prompt_number": 85,
       "text": [
        "                       NAME  P0010001 county state\n",
        "186          Alameda County   1510271    001    06\n",
        "187           Alpine County      1175    003    06\n",
        "188           Amador County     38091    005    06\n",
        "189            Butte County    220000    007    06\n",
        "190        Calaveras County     45578    009    06\n",
        "191           Colusa County     21419    011    06\n",
        "192     Contra Costa County   1049025    013    06\n",
        "193        Del Norte County     28610    015    06\n",
        "194        El Dorado County    181058    017    06\n",
        "195           Fresno County    930450    019    06\n",
        "196            Glenn County     28122    021    06\n",
        "197         Humboldt County    134623    023    06\n",
        "198         Imperial County    174528    025    06\n",
        "199             Inyo County     18546    027    06\n",
        "200             Kern County    839631    029    06\n",
        "201            Kings County    152982    031    06\n",
        "202             Lake County     64665    033    06\n",
        "203           Lassen County     34895    035    06\n",
        "204      Los Angeles County   9818605    037    06\n",
        "205           Madera County    150865    039    06\n",
        "206            Marin County    252409    041    06\n",
        "207         Mariposa County     18251    043    06\n",
        "208        Mendocino County     87841    045    06\n",
        "209           Merced County    255793    047    06\n",
        "210            Modoc County      9686    049    06\n",
        "211             Mono County     14202    051    06\n",
        "212         Monterey County    415057    053    06\n",
        "213             Napa County    136484    055    06\n",
        "214           Nevada County     98764    057    06\n",
        "215           Orange County   3010232    059    06\n",
        "216           Placer County    348432    061    06\n",
        "217           Plumas County     20007    063    06\n",
        "218        Riverside County   2189641    065    06\n",
        "219       Sacramento County   1418788    067    06\n",
        "220       San Benito County     55269    069    06\n",
        "221   San Bernardino County   2035210    071    06\n",
        "222        San Diego County   3095313    073    06\n",
        "223    San Francisco County    805235    075    06\n",
        "224      San Joaquin County    685306    077    06\n",
        "225  San Luis Obispo County    269637    079    06\n",
        "226        San Mateo County    718451    081    06\n",
        "227    Santa Barbara County    423895    083    06\n",
        "228      Santa Clara County   1781642    085    06\n",
        "229       Santa Cruz County    262382    087    06\n",
        "230           Shasta County    177223    089    06\n",
        "231           Sierra County      3240    091    06\n",
        "232         Siskiyou County     44900    093    06\n",
        "233           Solano County    413344    095    06\n",
        "234           Sonoma County    483878    097    06\n",
        "235       Stanislaus County    514453    099    06\n",
        "236           Sutter County     94737    101    06\n",
        "237           Tehama County     63463    103    06\n",
        "238          Trinity County     13786    105    06\n",
        "239           Tulare County    442179    107    06\n",
        "240         Tuolumne County     55365    109    06\n",
        "241          Ventura County    823318    111    06\n",
        "242             Yolo County    200849    113    06\n",
        "243             Yuba County     72155    115    06"
       ]
      }
     ],
     "prompt_number": 85
    },
    {
     "cell_type": "code",
     "collapsed": false,
     "input": [
      "counties_df[counties_df.NAME == 'Alameda County']"
     ],
     "language": "python",
     "metadata": {},
     "outputs": [
      {
       "html": [
        "<div style=\"max-height:1000px;max-width:1500px;overflow:auto;\">\n",
        "<table border=\"1\" class=\"dataframe\">\n",
        "  <thead>\n",
        "    <tr style=\"text-align: right;\">\n",
        "      <th></th>\n",
        "      <th>NAME</th>\n",
        "      <th>P0010001</th>\n",
        "      <th>county</th>\n",
        "      <th>state</th>\n",
        "    </tr>\n",
        "  </thead>\n",
        "  <tbody>\n",
        "    <tr>\n",
        "      <th>186</th>\n",
        "      <td> Alameda County</td>\n",
        "      <td> 1510271</td>\n",
        "      <td> 001</td>\n",
        "      <td> 06</td>\n",
        "    </tr>\n",
        "  </tbody>\n",
        "</table>\n",
        "</div>"
       ],
       "metadata": {},
       "output_type": "pyout",
       "prompt_number": 86,
       "text": [
        "               NAME  P0010001 county state\n",
        "186  Alameda County   1510271    001    06"
       ]
      }
     ],
     "prompt_number": 86
    },
    {
     "cell_type": "code",
     "collapsed": false,
     "input": [
      "counties_df[counties_df.NAME == 'Alameda County']['P0010001']"
     ],
     "language": "python",
     "metadata": {},
     "outputs": [
      {
       "metadata": {},
       "output_type": "pyout",
       "prompt_number": 87,
       "text": [
        "186    1510271\n",
        "Name: P0010001, dtype: int64"
       ]
      }
     ],
     "prompt_number": 87
    },
    {
     "cell_type": "markdown",
     "metadata": {},
     "source": [
      "Different ways to read off the population of Alameda County -- still looking for the best way"
     ]
    },
    {
     "cell_type": "code",
     "collapsed": false,
     "input": [
      "counties_df[counties_df.NAME == 'Alameda County']['P0010001'].to_dict().values()[0]"
     ],
     "language": "python",
     "metadata": {},
     "outputs": [
      {
       "metadata": {},
       "output_type": "pyout",
       "prompt_number": 88,
       "text": [
        "1510271"
       ]
      }
     ],
     "prompt_number": 88
    },
    {
     "cell_type": "code",
     "collapsed": false,
     "input": [
      "list(counties_df[counties_df.NAME == 'Alameda County']['P0010001'].iteritems())[0][1]"
     ],
     "language": "python",
     "metadata": {},
     "outputs": [
      {
       "metadata": {},
       "output_type": "pyout",
       "prompt_number": 89,
       "text": [
        "1510271"
       ]
      }
     ],
     "prompt_number": 89
    },
    {
     "cell_type": "code",
     "collapsed": false,
     "input": [
      "int(counties_df[counties_df.NAME == 'Alameda County']['P0010001'].values)"
     ],
     "language": "python",
     "metadata": {},
     "outputs": [
      {
       "metadata": {},
       "output_type": "pyout",
       "prompt_number": 90,
       "text": [
        "1510271"
       ]
      }
     ],
     "prompt_number": 90
    },
    {
     "cell_type": "markdown",
     "metadata": {},
     "source": [
      "If you know the FIPS code for Alameda County, just read off the population using `.ix`"
     ]
    },
    {
     "cell_type": "code",
     "collapsed": false,
     "input": [
      "# this is like accessing a cell in a spreadsheet -- row, col\n",
      "\n",
      "ALAMEDA_COUNTY_FIPS = '06001'\n",
      "\n",
      "counties_df.ix[ALAMEDA_COUNTY_FIPS,'P0010001']"
     ],
     "language": "python",
     "metadata": {},
     "outputs": [
      {
       "ename": "KeyError",
       "evalue": "'06001'",
       "output_type": "pyerr",
       "traceback": [
        "\u001b[1;31m---------------------------------------------------------------------------\u001b[0m\n\u001b[1;31mKeyError\u001b[0m                                  Traceback (most recent call last)",
        "\u001b[1;32m<ipython-input-91-b5d6ac1d3882>\u001b[0m in \u001b[0;36m<module>\u001b[1;34m()\u001b[0m\n\u001b[0;32m      3\u001b[0m \u001b[0mALAMEDA_COUNTY_FIPS\u001b[0m \u001b[1;33m=\u001b[0m \u001b[1;34m'06001'\u001b[0m\u001b[1;33m\u001b[0m\u001b[0m\n\u001b[0;32m      4\u001b[0m \u001b[1;33m\u001b[0m\u001b[0m\n\u001b[1;32m----> 5\u001b[1;33m \u001b[0mcounties_df\u001b[0m\u001b[1;33m.\u001b[0m\u001b[0mix\u001b[0m\u001b[1;33m[\u001b[0m\u001b[0mALAMEDA_COUNTY_FIPS\u001b[0m\u001b[1;33m,\u001b[0m\u001b[1;34m'P0010001'\u001b[0m\u001b[1;33m]\u001b[0m\u001b[1;33m\u001b[0m\u001b[0m\n\u001b[0m",
        "\u001b[1;32m/home/paul/anaconda/envs/myenv/lib/python2.7/site-packages/pandas/core/indexing.pyc\u001b[0m in \u001b[0;36m__getitem__\u001b[1;34m(self, key)\u001b[0m\n\u001b[0;32m     45\u001b[0m                 \u001b[1;32mpass\u001b[0m\u001b[1;33m\u001b[0m\u001b[0m\n\u001b[0;32m     46\u001b[0m \u001b[1;33m\u001b[0m\u001b[0m\n\u001b[1;32m---> 47\u001b[1;33m             \u001b[1;32mreturn\u001b[0m \u001b[0mself\u001b[0m\u001b[1;33m.\u001b[0m\u001b[0m_getitem_tuple\u001b[0m\u001b[1;33m(\u001b[0m\u001b[0mkey\u001b[0m\u001b[1;33m)\u001b[0m\u001b[1;33m\u001b[0m\u001b[0m\n\u001b[0m\u001b[0;32m     48\u001b[0m         \u001b[1;32melse\u001b[0m\u001b[1;33m:\u001b[0m\u001b[1;33m\u001b[0m\u001b[0m\n\u001b[0;32m     49\u001b[0m             \u001b[1;32mreturn\u001b[0m \u001b[0mself\u001b[0m\u001b[1;33m.\u001b[0m\u001b[0m_getitem_axis\u001b[0m\u001b[1;33m(\u001b[0m\u001b[0mkey\u001b[0m\u001b[1;33m,\u001b[0m \u001b[0maxis\u001b[0m\u001b[1;33m=\u001b[0m\u001b[1;36m0\u001b[0m\u001b[1;33m)\u001b[0m\u001b[1;33m\u001b[0m\u001b[0m\n",
        "\u001b[1;32m/home/paul/anaconda/envs/myenv/lib/python2.7/site-packages/pandas/core/indexing.pyc\u001b[0m in \u001b[0;36m_getitem_tuple\u001b[1;34m(self, tup)\u001b[0m\n\u001b[0;32m    251\u001b[0m     \u001b[1;32mdef\u001b[0m \u001b[0m_getitem_tuple\u001b[0m\u001b[1;33m(\u001b[0m\u001b[0mself\u001b[0m\u001b[1;33m,\u001b[0m \u001b[0mtup\u001b[0m\u001b[1;33m)\u001b[0m\u001b[1;33m:\u001b[0m\u001b[1;33m\u001b[0m\u001b[0m\n\u001b[0;32m    252\u001b[0m         \u001b[1;32mtry\u001b[0m\u001b[1;33m:\u001b[0m\u001b[1;33m\u001b[0m\u001b[0m\n\u001b[1;32m--> 253\u001b[1;33m             \u001b[1;32mreturn\u001b[0m \u001b[0mself\u001b[0m\u001b[1;33m.\u001b[0m\u001b[0m_getitem_lowerdim\u001b[0m\u001b[1;33m(\u001b[0m\u001b[0mtup\u001b[0m\u001b[1;33m)\u001b[0m\u001b[1;33m\u001b[0m\u001b[0m\n\u001b[0m\u001b[0;32m    254\u001b[0m         \u001b[1;32mexcept\u001b[0m \u001b[0mIndexingError\u001b[0m\u001b[1;33m:\u001b[0m\u001b[1;33m\u001b[0m\u001b[0m\n\u001b[0;32m    255\u001b[0m             \u001b[1;32mpass\u001b[0m\u001b[1;33m\u001b[0m\u001b[0m\n",
        "\u001b[1;32m/home/paul/anaconda/envs/myenv/lib/python2.7/site-packages/pandas/core/indexing.pyc\u001b[0m in \u001b[0;36m_getitem_lowerdim\u001b[1;34m(self, tup)\u001b[0m\n\u001b[0;32m    361\u001b[0m         \u001b[1;32mfor\u001b[0m \u001b[0mi\u001b[0m\u001b[1;33m,\u001b[0m \u001b[0mkey\u001b[0m \u001b[1;32min\u001b[0m \u001b[0menumerate\u001b[0m\u001b[1;33m(\u001b[0m\u001b[0mtup\u001b[0m\u001b[1;33m)\u001b[0m\u001b[1;33m:\u001b[0m\u001b[1;33m\u001b[0m\u001b[0m\n\u001b[0;32m    362\u001b[0m             \u001b[1;32mif\u001b[0m \u001b[0m_is_label_like\u001b[0m\u001b[1;33m(\u001b[0m\u001b[0mkey\u001b[0m\u001b[1;33m)\u001b[0m \u001b[1;32mor\u001b[0m \u001b[0misinstance\u001b[0m\u001b[1;33m(\u001b[0m\u001b[0mkey\u001b[0m\u001b[1;33m,\u001b[0m \u001b[0mtuple\u001b[0m\u001b[1;33m)\u001b[0m\u001b[1;33m:\u001b[0m\u001b[1;33m\u001b[0m\u001b[0m\n\u001b[1;32m--> 363\u001b[1;33m                 \u001b[0msection\u001b[0m \u001b[1;33m=\u001b[0m \u001b[0mself\u001b[0m\u001b[1;33m.\u001b[0m\u001b[0m_getitem_axis\u001b[0m\u001b[1;33m(\u001b[0m\u001b[0mkey\u001b[0m\u001b[1;33m,\u001b[0m \u001b[0maxis\u001b[0m\u001b[1;33m=\u001b[0m\u001b[0mi\u001b[0m\u001b[1;33m)\u001b[0m\u001b[1;33m\u001b[0m\u001b[0m\n\u001b[0m\u001b[0;32m    364\u001b[0m \u001b[1;33m\u001b[0m\u001b[0m\n\u001b[0;32m    365\u001b[0m                 \u001b[1;31m# we have yielded a scalar ?\u001b[0m\u001b[1;33m\u001b[0m\u001b[1;33m\u001b[0m\u001b[0m\n",
        "\u001b[1;32m/home/paul/anaconda/envs/myenv/lib/python2.7/site-packages/pandas/core/indexing.pyc\u001b[0m in \u001b[0;36m_getitem_axis\u001b[1;34m(self, key, axis)\u001b[0m\n\u001b[0;32m    411\u001b[0m                     \u001b[1;32mreturn\u001b[0m \u001b[0mself\u001b[0m\u001b[1;33m.\u001b[0m\u001b[0m_get_loc\u001b[0m\u001b[1;33m(\u001b[0m\u001b[0mkey\u001b[0m\u001b[1;33m,\u001b[0m \u001b[0maxis\u001b[0m\u001b[1;33m=\u001b[0m\u001b[0maxis\u001b[0m\u001b[1;33m)\u001b[0m\u001b[1;33m\u001b[0m\u001b[0m\n\u001b[0;32m    412\u001b[0m \u001b[1;33m\u001b[0m\u001b[0m\n\u001b[1;32m--> 413\u001b[1;33m             \u001b[1;32mreturn\u001b[0m \u001b[0mself\u001b[0m\u001b[1;33m.\u001b[0m\u001b[0m_get_label\u001b[0m\u001b[1;33m(\u001b[0m\u001b[0mkey\u001b[0m\u001b[1;33m,\u001b[0m \u001b[0maxis\u001b[0m\u001b[1;33m=\u001b[0m\u001b[0maxis\u001b[0m\u001b[1;33m)\u001b[0m\u001b[1;33m\u001b[0m\u001b[0m\n\u001b[0m\u001b[0;32m    414\u001b[0m \u001b[1;33m\u001b[0m\u001b[0m\n\u001b[0;32m    415\u001b[0m     \u001b[1;32mdef\u001b[0m \u001b[0m_getitem_iterable\u001b[0m\u001b[1;33m(\u001b[0m\u001b[0mself\u001b[0m\u001b[1;33m,\u001b[0m \u001b[0mkey\u001b[0m\u001b[1;33m,\u001b[0m \u001b[0maxis\u001b[0m\u001b[1;33m=\u001b[0m\u001b[1;36m0\u001b[0m\u001b[1;33m)\u001b[0m\u001b[1;33m:\u001b[0m\u001b[1;33m\u001b[0m\u001b[0m\n",
        "\u001b[1;32m/home/paul/anaconda/envs/myenv/lib/python2.7/site-packages/pandas/core/indexing.pyc\u001b[0m in \u001b[0;36m_get_label\u001b[1;34m(self, label, axis)\u001b[0m\n\u001b[0;32m     59\u001b[0m             \u001b[1;32mreturn\u001b[0m \u001b[0mself\u001b[0m\u001b[1;33m.\u001b[0m\u001b[0mobj\u001b[0m\u001b[1;33m.\u001b[0m\u001b[0m_xs\u001b[0m\u001b[1;33m(\u001b[0m\u001b[0mlabel\u001b[0m\u001b[1;33m,\u001b[0m \u001b[0maxis\u001b[0m\u001b[1;33m=\u001b[0m\u001b[0maxis\u001b[0m\u001b[1;33m,\u001b[0m \u001b[0mcopy\u001b[0m\u001b[1;33m=\u001b[0m\u001b[0mFalse\u001b[0m\u001b[1;33m)\u001b[0m\u001b[1;33m\u001b[0m\u001b[0m\n\u001b[0;32m     60\u001b[0m         \u001b[1;32mexcept\u001b[0m \u001b[0mException\u001b[0m\u001b[1;33m:\u001b[0m\u001b[1;33m\u001b[0m\u001b[0m\n\u001b[1;32m---> 61\u001b[1;33m             \u001b[1;32mreturn\u001b[0m \u001b[0mself\u001b[0m\u001b[1;33m.\u001b[0m\u001b[0mobj\u001b[0m\u001b[1;33m.\u001b[0m\u001b[0m_xs\u001b[0m\u001b[1;33m(\u001b[0m\u001b[0mlabel\u001b[0m\u001b[1;33m,\u001b[0m \u001b[0maxis\u001b[0m\u001b[1;33m=\u001b[0m\u001b[0maxis\u001b[0m\u001b[1;33m,\u001b[0m \u001b[0mcopy\u001b[0m\u001b[1;33m=\u001b[0m\u001b[0mTrue\u001b[0m\u001b[1;33m)\u001b[0m\u001b[1;33m\u001b[0m\u001b[0m\n\u001b[0m\u001b[0;32m     62\u001b[0m \u001b[1;33m\u001b[0m\u001b[0m\n\u001b[0;32m     63\u001b[0m     \u001b[1;32mdef\u001b[0m \u001b[0m_get_loc\u001b[0m\u001b[1;33m(\u001b[0m\u001b[0mself\u001b[0m\u001b[1;33m,\u001b[0m \u001b[0mkey\u001b[0m\u001b[1;33m,\u001b[0m \u001b[0maxis\u001b[0m\u001b[1;33m=\u001b[0m\u001b[1;36m0\u001b[0m\u001b[1;33m)\u001b[0m\u001b[1;33m:\u001b[0m\u001b[1;33m\u001b[0m\u001b[0m\n",
        "\u001b[1;32m/home/paul/anaconda/envs/myenv/lib/python2.7/site-packages/pandas/core/frame.pyc\u001b[0m in \u001b[0;36mxs\u001b[1;34m(self, key, axis, level, copy)\u001b[0m\n\u001b[0;32m   2369\u001b[0m             \u001b[0mloc\u001b[0m\u001b[1;33m,\u001b[0m \u001b[0mnew_index\u001b[0m \u001b[1;33m=\u001b[0m \u001b[0mself\u001b[0m\u001b[1;33m.\u001b[0m\u001b[0mindex\u001b[0m\u001b[1;33m.\u001b[0m\u001b[0mget_loc_level\u001b[0m\u001b[1;33m(\u001b[0m\u001b[0mkey\u001b[0m\u001b[1;33m)\u001b[0m\u001b[1;33m\u001b[0m\u001b[0m\n\u001b[0;32m   2370\u001b[0m         \u001b[1;32melse\u001b[0m\u001b[1;33m:\u001b[0m\u001b[1;33m\u001b[0m\u001b[0m\n\u001b[1;32m-> 2371\u001b[1;33m             \u001b[0mloc\u001b[0m \u001b[1;33m=\u001b[0m \u001b[0mself\u001b[0m\u001b[1;33m.\u001b[0m\u001b[0mindex\u001b[0m\u001b[1;33m.\u001b[0m\u001b[0mget_loc\u001b[0m\u001b[1;33m(\u001b[0m\u001b[0mkey\u001b[0m\u001b[1;33m)\u001b[0m\u001b[1;33m\u001b[0m\u001b[0m\n\u001b[0m\u001b[0;32m   2372\u001b[0m \u001b[1;33m\u001b[0m\u001b[0m\n\u001b[0;32m   2373\u001b[0m             \u001b[1;32mif\u001b[0m \u001b[0misinstance\u001b[0m\u001b[1;33m(\u001b[0m\u001b[0mloc\u001b[0m\u001b[1;33m,\u001b[0m \u001b[0mnp\u001b[0m\u001b[1;33m.\u001b[0m\u001b[0mndarray\u001b[0m\u001b[1;33m)\u001b[0m\u001b[1;33m:\u001b[0m\u001b[1;33m\u001b[0m\u001b[0m\n",
        "\u001b[1;32m/home/paul/anaconda/envs/myenv/lib/python2.7/site-packages/pandas/core/index.pyc\u001b[0m in \u001b[0;36mget_loc\u001b[1;34m(self, key)\u001b[0m\n\u001b[0;32m    714\u001b[0m         \u001b[0mloc\u001b[0m \u001b[1;33m:\u001b[0m \u001b[0mint\u001b[0m \u001b[1;32mif\u001b[0m \u001b[0munique\u001b[0m \u001b[0mindex\u001b[0m\u001b[1;33m,\u001b[0m \u001b[0mpossibly\u001b[0m \u001b[0mslice\u001b[0m \u001b[1;32mor\u001b[0m \u001b[0mmask\u001b[0m \u001b[1;32mif\u001b[0m \u001b[1;32mnot\u001b[0m\u001b[1;33m\u001b[0m\u001b[0m\n\u001b[0;32m    715\u001b[0m         \"\"\"\n\u001b[1;32m--> 716\u001b[1;33m         \u001b[1;32mreturn\u001b[0m \u001b[0mself\u001b[0m\u001b[1;33m.\u001b[0m\u001b[0m_engine\u001b[0m\u001b[1;33m.\u001b[0m\u001b[0mget_loc\u001b[0m\u001b[1;33m(\u001b[0m\u001b[0mkey\u001b[0m\u001b[1;33m)\u001b[0m\u001b[1;33m\u001b[0m\u001b[0m\n\u001b[0m\u001b[0;32m    717\u001b[0m \u001b[1;33m\u001b[0m\u001b[0m\n\u001b[0;32m    718\u001b[0m     \u001b[1;32mdef\u001b[0m \u001b[0mget_value\u001b[0m\u001b[1;33m(\u001b[0m\u001b[0mself\u001b[0m\u001b[1;33m,\u001b[0m \u001b[0mseries\u001b[0m\u001b[1;33m,\u001b[0m \u001b[0mkey\u001b[0m\u001b[1;33m)\u001b[0m\u001b[1;33m:\u001b[0m\u001b[1;33m\u001b[0m\u001b[0m\n",
        "\u001b[1;32m/home/paul/anaconda/envs/myenv/lib/python2.7/site-packages/pandas/index.so\u001b[0m in \u001b[0;36mpandas.index.IndexEngine.get_loc (pandas/index.c:3542)\u001b[1;34m()\u001b[0m\n",
        "\u001b[1;32m/home/paul/anaconda/envs/myenv/lib/python2.7/site-packages/pandas/index.so\u001b[0m in \u001b[0;36mpandas.index.IndexEngine.get_loc (pandas/index.c:3477)\u001b[1;34m()\u001b[0m\n",
        "\u001b[1;31mKeyError\u001b[0m: '06001'"
       ]
      }
     ],
     "prompt_number": 91
    },
    {
     "cell_type": "heading",
     "level": 1,
     "metadata": {},
     "source": [
      "Reading off all the tracts in Alameda County"
     ]
    },
    {
     "cell_type": "code",
     "collapsed": false,
     "input": [
      "counties_df.ix[ALAMEDA_COUNTY_FIPS,'county']"
     ],
     "language": "python",
     "metadata": {},
     "outputs": []
    },
    {
     "cell_type": "code",
     "collapsed": false,
     "input": [
      "## FILL IN \n",
      "## generate a DataFrame named alameda_county_tracts_df by\n",
      "## calling the census api and the state-county-tract technique\n",
      "\n",
      "## how many census tracts in Alameda County?\n",
      "## if you add up the population, what do you get?\n",
      "## generate the FIPS code for each tract\n",
      "\n",
      "\n",
      "\n",
      "\n"
     ],
     "language": "python",
     "metadata": {},
     "outputs": []
    },
    {
     "cell_type": "code",
     "collapsed": false,
     "input": [
      "\n",
      "# confirm that you can find the census tract in which Cafe Milano is located\n",
      "# Cafe Milano is in tract 4228\n",
      "\n",
      "MILANO_TRACT_ID = '422800'\n",
      "alameda_county_tracts_df[alameda_county_tracts_df.tract==MILANO_TRACT_ID]"
     ],
     "language": "python",
     "metadata": {},
     "outputs": []
    },
    {
     "cell_type": "heading",
     "level": 1,
     "metadata": {},
     "source": [
      "Using Generators to yield all the tracts in the country"
     ]
    },
    {
     "cell_type": "markdown",
     "metadata": {},
     "source": [
      "http://www.jeffknupp.com/blog/2013/04/07/improve-your-python-yield-and-generators-explained/"
     ]
    },
    {
     "cell_type": "code",
     "collapsed": false,
     "input": [
      "## FILL IN\n",
      "## try to reproduce the generator I show in class for all the census tracts\n",
      "## start to think about how to do this for other geographical entities\n",
      "\n",
      "import time\n",
      "import us\n",
      "\n",
      "from itertools import islice\n",
      "\n",
      "def census_tracts(variable=('NAME','P0010001'), sleep_time=1.0):\n",
      "    \n",
      "    for state in us.states.STATES:\n",
      "        print state\n",
      "        for tract in c.sf1.get(variable, \n",
      "                    geo={'for':\"tract:*\", \n",
      "                        'in':'state:{state_fips}'.format(state_fips=state.fips)\n",
      "                        }):\n",
      "            yield tract\n",
      "        # don't hit the API more than once a second    \n",
      "        time.sleep(sleep_time)\n",
      " \n",
      "# limit the number of tracts we crawl for until we're reading to get all of them        \n",
      "tracts_df = DataFrame(list(islice(census_tracts(), 100)))\n",
      "tracts_df['P0010001'] = tracts_df['P0010001'].astype('int')\n"
     ],
     "language": "python",
     "metadata": {},
     "outputs": []
    },
    {
     "cell_type": "code",
     "collapsed": false,
     "input": [
      "tracts_df.head()"
     ],
     "language": "python",
     "metadata": {},
     "outputs": []
    },
    {
     "cell_type": "code",
     "collapsed": false,
     "input": [
      "## EXERCISE for next time\n",
      "## write a generator all census places\n",
      "\n",
      "\n"
     ],
     "language": "python",
     "metadata": {},
     "outputs": []
    },
    {
     "cell_type": "heading",
     "level": 1,
     "metadata": {},
     "source": [
      "Compare with Tabulations"
     ]
    },
    {
     "cell_type": "markdown",
     "metadata": {},
     "source": [
      "We can compare the total number of tracts we calculate to:\n",
      "\n",
      "https://www.census.gov/geo/maps-data/data/tallies/tractblock.html\n",
      "\n",
      "and\n",
      "\n",
      "https://www.census.gov/geo/maps-data/data/docs/geo_tallies/Tract_Block2010.txt"
     ]
    }
   ],
   "metadata": {}
  }
 ]
}