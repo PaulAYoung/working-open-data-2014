{
 "metadata": {
  "name": ""
 },
 "nbformat": 3,
 "nbformat_minor": 0,
 "worksheets": [
  {
   "cells": [
    {
     "cell_type": "heading",
     "level": 1,
     "metadata": {},
     "source": [
      "Goal"
     ]
    },
    {
     "cell_type": "markdown",
     "metadata": {},
     "source": [
      "Let's get set up to use the US Census API:\n",
      "\n",
      "    http://www.census.gov/developers/"
     ]
    },
    {
     "cell_type": "markdown",
     "metadata": {},
     "source": [
      "Things we'd like to be able to do:\n",
      "\n",
      "* calculate the population of California.\n",
      "* then calculate the population of every geographic entity going down to census block if possible.\n",
      "* for a given geographic unit, can we get the racial/ethnic breakdown?\n",
      "\n",
      "It's useful to make ties to the county-type calculation we do with the downloaded census files."
     ]
    },
    {
     "cell_type": "heading",
     "level": 1,
     "metadata": {},
     "source": [
      "Installing census, a useful Python module"
     ]
    },
    {
     "cell_type": "markdown",
     "metadata": {},
     "source": [
      "Dependency: to start with -- let's use the Python module: https://pypi.python.org/pypi/census/\n",
      "\n",
      "    pip install -U  census"
     ]
    },
    {
     "cell_type": "heading",
     "level": 1,
     "metadata": {},
     "source": [
      "Getting and activating an API key"
     ]
    },
    {
     "cell_type": "markdown",
     "metadata": {},
     "source": [
      "To use the census API, you will need an API key\n",
      "\n",
      "* fill out form at http://www.census.gov/developers/tos/key_request.html \n",
      "\n",
      "\"Your request for a new API key has been successfully submitted. Please check your email. In a few minutes you should receive a message with instructions on how to activate your new key.\"\n",
      "\n",
      "* click on link you'll get a link of the form http://api.census.gov/data/KeySignup?validate={key} -- where {key} is the one the Census Bureau will send you.\n",
      "\n",
      "Then create a settings.py in the same directory as this notebook (or somewhere else in your Python path) to hold `settings.CENSUS_KEY`.  (I prefer this approach over directly exposing your API key in the notebook code.)"
     ]
    },
    {
     "cell_type": "code",
     "collapsed": false,
     "input": [
      "# This cell should run successfully if you have a string set up to represent your census key\n",
      "\n",
      "try:\n",
      "    import settings\n",
      "    assert type(settings.CENSUS_KEY) == str or type(settings.CENSUS_KEY) == unicode\n",
      "except Exception as e:\n",
      "    print \"error in importing settings to get at settings.CENSUS_KEY\", e"
     ],
     "language": "python",
     "metadata": {},
     "outputs": [],
     "prompt_number": 2
    },
    {
     "cell_type": "heading",
     "level": 1,
     "metadata": {},
     "source": [
      "us.states module"
     ]
    },
    {
     "cell_type": "code",
     "collapsed": false,
     "input": [
      "# let's figure out a bit about the us module, in particular, us.states\n",
      "# https://github.com/unitedstates/python-us\n",
      "\n",
      "from us import states\n",
      "assert states.CA.fips == u'06'"
     ],
     "language": "python",
     "metadata": {},
     "outputs": [],
     "prompt_number": 3
    },
    {
     "cell_type": "code",
     "collapsed": false,
     "input": [
      "# set up your census object\n",
      "# example from https://github.com/sunlightlabs/census\n",
      "\n",
      "from census import Census\n",
      "from us import states\n",
      "\n",
      "c = Census(settings.CENSUS_KEY)"
     ],
     "language": "python",
     "metadata": {},
     "outputs": [],
     "prompt_number": 4
    },
    {
     "cell_type": "code",
     "collapsed": false,
     "input": [
      "for (i, state) in enumerate(states.STATES):\n",
      "    print i, state.name, state.fips"
     ],
     "language": "python",
     "metadata": {},
     "outputs": [
      {
       "output_type": "stream",
       "stream": "stdout",
       "text": [
        "0 Alabama 01\n",
        "1 Alaska 02\n",
        "2 Arizona 04\n",
        "3 Arkansas 05\n",
        "4 California 06\n",
        "5 Colorado 08\n",
        "6 Connecticut 09\n",
        "7 Delaware 10\n",
        "8 District of Columbia 11\n",
        "9 Florida 12\n",
        "10 Georgia 13\n",
        "11 Hawaii 15\n",
        "12 Idaho 16\n",
        "13 Illinois 17\n",
        "14 Indiana 18\n",
        "15 Iowa 19\n",
        "16 Kansas 20\n",
        "17 Kentucky 21\n",
        "18 Louisiana 22\n",
        "19 Maine 23\n",
        "20 Maryland 24\n",
        "21 Massachusetts 25\n",
        "22 Michigan 26\n",
        "23 Minnesota 27\n",
        "24 Mississippi 28\n",
        "25 Missouri 29\n",
        "26 Montana 30\n",
        "27 Nebraska 31\n",
        "28 Nevada 32\n",
        "29 New Hampshire 33\n",
        "30 New Jersey 34\n",
        "31 New Mexico 35\n",
        "32 New York 36\n",
        "33 North Carolina 37\n",
        "34 North Dakota 38\n",
        "35 Ohio 39\n",
        "36 Oklahoma 40\n",
        "37 Oregon 41\n",
        "38 Pennsylvania 42\n",
        "39 Rhode Island 44\n",
        "40 South Carolina 45\n",
        "41 South Dakota 46\n",
        "42 Tennessee 47\n",
        "43 Texas 48\n",
        "44 Utah 49\n",
        "45 Vermont 50\n",
        "46 Virginia 51\n",
        "47 Washington 53\n",
        "48 West Virginia 54\n",
        "49 Wisconsin 55\n",
        "50 Wyoming 56\n"
       ]
      }
     ],
     "prompt_number": 5
    },
    {
     "cell_type": "heading",
     "level": 1,
     "metadata": {},
     "source": [
      "Formulating URL requests to the API explicitly"
     ]
    },
    {
     "cell_type": "code",
     "collapsed": false,
     "input": [
      "import requests"
     ],
     "language": "python",
     "metadata": {},
     "outputs": [],
     "prompt_number": 6
    },
    {
     "cell_type": "code",
     "collapsed": false,
     "input": [
      "# get the total population of all states\n",
      "url = \"http://api.census.gov/data/2010/sf1?key={key}&get=P0010001,NAME&for=state:*\".format(key=settings.CENSUS_KEY)"
     ],
     "language": "python",
     "metadata": {},
     "outputs": [],
     "prompt_number": 7
    },
    {
     "cell_type": "code",
     "collapsed": false,
     "input": [
      "r = requests.get(url)"
     ],
     "language": "python",
     "metadata": {},
     "outputs": [],
     "prompt_number": 8
    },
    {
     "cell_type": "code",
     "collapsed": false,
     "input": [
      "r.json()"
     ],
     "language": "python",
     "metadata": {},
     "outputs": [
      {
       "metadata": {},
       "output_type": "pyout",
       "prompt_number": 9,
       "text": [
        "[[u'P0010001', u'NAME', u'state'],\n",
        " [u'4779736', u'Alabama', u'01'],\n",
        " [u'710231', u'Alaska', u'02'],\n",
        " [u'6392017', u'Arizona', u'04'],\n",
        " [u'2915918', u'Arkansas', u'05'],\n",
        " [u'37253956', u'California', u'06'],\n",
        " [u'5029196', u'Colorado', u'08'],\n",
        " [u'3574097', u'Connecticut', u'09'],\n",
        " [u'897934', u'Delaware', u'10'],\n",
        " [u'601723', u'District of Columbia', u'11'],\n",
        " [u'18801310', u'Florida', u'12'],\n",
        " [u'9687653', u'Georgia', u'13'],\n",
        " [u'1360301', u'Hawaii', u'15'],\n",
        " [u'1567582', u'Idaho', u'16'],\n",
        " [u'12830632', u'Illinois', u'17'],\n",
        " [u'6483802', u'Indiana', u'18'],\n",
        " [u'3046355', u'Iowa', u'19'],\n",
        " [u'2853118', u'Kansas', u'20'],\n",
        " [u'4339367', u'Kentucky', u'21'],\n",
        " [u'4533372', u'Louisiana', u'22'],\n",
        " [u'1328361', u'Maine', u'23'],\n",
        " [u'5773552', u'Maryland', u'24'],\n",
        " [u'6547629', u'Massachusetts', u'25'],\n",
        " [u'9883640', u'Michigan', u'26'],\n",
        " [u'5303925', u'Minnesota', u'27'],\n",
        " [u'2967297', u'Mississippi', u'28'],\n",
        " [u'5988927', u'Missouri', u'29'],\n",
        " [u'989415', u'Montana', u'30'],\n",
        " [u'1826341', u'Nebraska', u'31'],\n",
        " [u'2700551', u'Nevada', u'32'],\n",
        " [u'1316470', u'New Hampshire', u'33'],\n",
        " [u'8791894', u'New Jersey', u'34'],\n",
        " [u'2059179', u'New Mexico', u'35'],\n",
        " [u'19378102', u'New York', u'36'],\n",
        " [u'9535483', u'North Carolina', u'37'],\n",
        " [u'672591', u'North Dakota', u'38'],\n",
        " [u'11536504', u'Ohio', u'39'],\n",
        " [u'3751351', u'Oklahoma', u'40'],\n",
        " [u'3831074', u'Oregon', u'41'],\n",
        " [u'12702379', u'Pennsylvania', u'42'],\n",
        " [u'1052567', u'Rhode Island', u'44'],\n",
        " [u'4625364', u'South Carolina', u'45'],\n",
        " [u'814180', u'South Dakota', u'46'],\n",
        " [u'6346105', u'Tennessee', u'47'],\n",
        " [u'25145561', u'Texas', u'48'],\n",
        " [u'2763885', u'Utah', u'49'],\n",
        " [u'625741', u'Vermont', u'50'],\n",
        " [u'8001024', u'Virginia', u'51'],\n",
        " [u'6724540', u'Washington', u'53'],\n",
        " [u'1852994', u'West Virginia', u'54'],\n",
        " [u'5686986', u'Wisconsin', u'55'],\n",
        " [u'563626', u'Wyoming', u'56'],\n",
        " [u'3725789', u'Puerto Rico', u'72']]"
       ]
      }
     ],
     "prompt_number": 9
    },
    {
     "cell_type": "heading",
     "level": 1,
     "metadata": {},
     "source": [
      "EXERCISE"
     ]
    },
    {
     "cell_type": "markdown",
     "metadata": {},
     "source": [
      "Show how to calculate the total population of the USA, including and excluding Puerto Rico.  (I don't know why Puerto Rico is included but not other [unincorporated territories](https://en.wikipedia.org/wiki/Unincorporated_territories_of_the_United_States)"
     ]
    },
    {
     "cell_type": "code",
     "collapsed": false,
     "input": [
      "from json import loads\n",
      "\n",
      "states = loads(r.content)\n",
      "\n",
      "total_pop = sum([int(s[0]) for s in states[1:]])\n",
      "print \"Total US Population including Puerto Rico: {}\".format(total_pop)\n",
      "\n",
      "states_pop = sum([int(s[0]) for s in states[1:-1]])\n",
      "print \"Total population of US States (without Puerto Rico): {}\".format(states_pop)"
     ],
     "language": "python",
     "metadata": {},
     "outputs": [
      {
       "output_type": "stream",
       "stream": "stdout",
       "text": [
        "Total US Population including Puerto Rico: 312471327\n",
        "Total population of US States (without Puerto Rico): 308745538\n"
       ]
      }
     ],
     "prompt_number": 10
    },
    {
     "cell_type": "heading",
     "level": 1,
     "metadata": {},
     "source": [
      "Next Steps: Focusing on sf1 + census"
     ]
    },
    {
     "cell_type": "markdown",
     "metadata": {},
     "source": [
      "How to map out the geographical hierachy and pull out total population figures?\n",
      "\n",
      " 1. Nation\n",
      " 1. Regions\n",
      " 1. Divisions\n",
      " 1. State\n",
      " 1. County\n",
      " 1. Census Tract\n",
      " 1. Block Group\n",
      " 1. Census Block\n",
      " \n",
      "Questions\n",
      " \n",
      "* What identifiers are used for these various geographic entities?  \n",
      "* Can we get an enumeration of each of these entities?\n",
      "* How to figure out which census tract, block group, census block one is in?\n",
      " \n"
     ]
    },
    {
     "cell_type": "heading",
     "level": 2,
     "metadata": {},
     "source": [
      "Total Population of California"
     ]
    },
    {
     "cell_type": "markdown",
     "metadata": {},
     "source": [
      "[2010 Census Summary File 1](http://www.census.gov/prod/cen2010/doc/sf1.pdf)\n",
      "\n",
      "P0010001 is found in [2010 SF1 API Variables \\[XML\\]](http://www.census.gov/developers/data/sf1.xml) = \"total population\""
     ]
    },
    {
     "cell_type": "code",
     "collapsed": false,
     "input": [
      "c.sf1.get(('NAME', 'P0010001'), {'for': 'state:%s' % states.CA.fips})"
     ],
     "language": "python",
     "metadata": {},
     "outputs": [
      {
       "metadata": {},
       "output_type": "pyout",
       "prompt_number": 22,
       "text": [
        "[{u'NAME': u'California', u'P0010001': u'37253956', u'state': u'06'}]"
       ]
      }
     ],
     "prompt_number": 22
    },
    {
     "cell_type": "code",
     "collapsed": false,
     "input": [
      "\"population of California: {0}\".format(\n",
      "        int(c.sf1.get(('NAME', 'P0010001'), {'for': 'state:%s' % states.CA.fips})[0]['P0010001']))"
     ],
     "language": "python",
     "metadata": {},
     "outputs": [
      {
       "metadata": {},
       "output_type": "pyout",
       "prompt_number": 23,
       "text": [
        "'population of California: 37253956'"
       ]
      }
     ],
     "prompt_number": 23
    }
   ],
   "metadata": {}
  }
 ]
}