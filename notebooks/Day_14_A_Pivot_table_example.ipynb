{
 "metadata": {
  "name": "",
  "signature": "sha256:a231ea9c8924fb18dd605101459b2fa45bcc611a092c410d3e993db1d10921a8"
 },
 "nbformat": 3,
 "nbformat_minor": 0,
 "worksheets": [
  {
   "cells": [
    {
     "cell_type": "markdown",
     "metadata": {},
     "source": [
      "A simple demonstration of pivot_table. [Reshaping and Pivot Tables \u2014 pandas 0.13.1 documentation](http://pandas.pydata.org/pandas-docs/stable/reshaping.html)"
     ]
    },
    {
     "cell_type": "code",
     "collapsed": false,
     "input": [
      "import pandas as pd\n",
      "from pandas import DataFrame, Series"
     ],
     "language": "python",
     "metadata": {},
     "outputs": [],
     "prompt_number": 1
    },
    {
     "cell_type": "code",
     "collapsed": false,
     "input": [
      "df = DataFrame([{\n",
      "'year':1880,\n",
      "'name':'John',\n",
      "'sex': 'M',\n",
      "'births': 13\n",
      "},\n",
      "{'year':1880,\n",
      "'name':'Pat',\n",
      "'sex': 'M',\n",
      "'births': 13\n",
      "},\n",
      "{'year':1880,\n",
      "'name':'Pat',\n",
      "'sex': 'F',\n",
      "'births': 13\n",
      "},\n",
      "{\n",
      "'year':1880,\n",
      "'name':'Jane',\n",
      "'sex': 'F',\n",
      "'births': 20\n",
      "}, \n",
      "{\n",
      "'year':1881,\n",
      "'name':'John',\n",
      "'sex': 'M',\n",
      "'births': 90\n",
      "},\n",
      "{\n",
      "'year':1881,\n",
      "'name':'Jane',\n",
      "'sex': 'F',\n",
      "'births': 21\n",
      "},])\n",
      "\n",
      "df"
     ],
     "language": "python",
     "metadata": {},
     "outputs": [
      {
       "html": [
        "<div style=\"max-height:1000px;max-width:1500px;overflow:auto;\">\n",
        "<table border=\"1\" class=\"dataframe\">\n",
        "  <thead>\n",
        "    <tr style=\"text-align: right;\">\n",
        "      <th></th>\n",
        "      <th>births</th>\n",
        "      <th>name</th>\n",
        "      <th>sex</th>\n",
        "      <th>year</th>\n",
        "    </tr>\n",
        "  </thead>\n",
        "  <tbody>\n",
        "    <tr>\n",
        "      <th>0</th>\n",
        "      <td> 13</td>\n",
        "      <td> John</td>\n",
        "      <td> M</td>\n",
        "      <td> 1880</td>\n",
        "    </tr>\n",
        "    <tr>\n",
        "      <th>1</th>\n",
        "      <td> 13</td>\n",
        "      <td>  Pat</td>\n",
        "      <td> M</td>\n",
        "      <td> 1880</td>\n",
        "    </tr>\n",
        "    <tr>\n",
        "      <th>2</th>\n",
        "      <td> 13</td>\n",
        "      <td>  Pat</td>\n",
        "      <td> F</td>\n",
        "      <td> 1880</td>\n",
        "    </tr>\n",
        "    <tr>\n",
        "      <th>3</th>\n",
        "      <td> 20</td>\n",
        "      <td> Jane</td>\n",
        "      <td> F</td>\n",
        "      <td> 1880</td>\n",
        "    </tr>\n",
        "    <tr>\n",
        "      <th>4</th>\n",
        "      <td> 90</td>\n",
        "      <td> John</td>\n",
        "      <td> M</td>\n",
        "      <td> 1881</td>\n",
        "    </tr>\n",
        "    <tr>\n",
        "      <th>5</th>\n",
        "      <td> 21</td>\n",
        "      <td> Jane</td>\n",
        "      <td> F</td>\n",
        "      <td> 1881</td>\n",
        "    </tr>\n",
        "  </tbody>\n",
        "</table>\n",
        "<p>6 rows \u00d7 4 columns</p>\n",
        "</div>"
       ],
       "metadata": {},
       "output_type": "pyout",
       "prompt_number": 2,
       "text": [
        "   births  name sex  year\n",
        "0      13  John   M  1880\n",
        "1      13   Pat   M  1880\n",
        "2      13   Pat   F  1880\n",
        "3      20  Jane   F  1880\n",
        "4      90  John   M  1881\n",
        "5      21  Jane   F  1881\n",
        "\n",
        "[6 rows x 4 columns]"
       ]
      }
     ],
     "prompt_number": 2
    },
    {
     "cell_type": "code",
     "collapsed": false,
     "input": [
      "pt  = df.pivot_table(rows='year', cols=['name','sex'])['births']\n",
      "pt"
     ],
     "language": "python",
     "metadata": {},
     "outputs": [
      {
       "html": [
        "<div style=\"max-height:1000px;max-width:1500px;overflow:auto;\">\n",
        "<table border=\"1\" class=\"dataframe\">\n",
        "  <thead>\n",
        "    <tr>\n",
        "      <th>name</th>\n",
        "      <th>Jane</th>\n",
        "      <th>John</th>\n",
        "      <th colspan=\"2\" halign=\"left\">Pat</th>\n",
        "    </tr>\n",
        "    <tr>\n",
        "      <th>sex</th>\n",
        "      <th>F</th>\n",
        "      <th>M</th>\n",
        "      <th>F</th>\n",
        "      <th>M</th>\n",
        "    </tr>\n",
        "    <tr>\n",
        "      <th>year</th>\n",
        "      <th></th>\n",
        "      <th></th>\n",
        "      <th></th>\n",
        "      <th></th>\n",
        "    </tr>\n",
        "  </thead>\n",
        "  <tbody>\n",
        "    <tr>\n",
        "      <th>1880</th>\n",
        "      <td> 20</td>\n",
        "      <td> 13</td>\n",
        "      <td> 13</td>\n",
        "      <td> 13</td>\n",
        "    </tr>\n",
        "    <tr>\n",
        "      <th>1881</th>\n",
        "      <td> 21</td>\n",
        "      <td> 90</td>\n",
        "      <td>NaN</td>\n",
        "      <td>NaN</td>\n",
        "    </tr>\n",
        "  </tbody>\n",
        "</table>\n",
        "<p>2 rows \u00d7 4 columns</p>\n",
        "</div>"
       ],
       "metadata": {},
       "output_type": "pyout",
       "prompt_number": 3,
       "text": [
        "name  Jane  John  Pat    \n",
        "sex      F     M    F   M\n",
        "year                     \n",
        "1880    20    13   13  13\n",
        "1881    21    90  NaN NaN\n",
        "\n",
        "[2 rows x 4 columns]"
       ]
      }
     ],
     "prompt_number": 3
    },
    {
     "cell_type": "code",
     "collapsed": false,
     "input": [
      "# let's make a new table in which there is M/F subindex for all names\n",
      "\n",
      "names = set(pt.columns.get_level_values(level=0))\n",
      "sexes = set(pt.columns.get_level_values(level=1))\n",
      "names, sexes"
     ],
     "language": "python",
     "metadata": {},
     "outputs": [
      {
       "metadata": {},
       "output_type": "pyout",
       "prompt_number": 4,
       "text": [
        "({'Jane', 'John', 'Pat'}, {'F', 'M'})"
       ]
      }
     ],
     "prompt_number": 4
    },
    {
     "cell_type": "code",
     "collapsed": false,
     "input": [
      "# http://pandas.pydata.org/pandas-docs/stable/indexing.html#creating-a-multiindex-hierarchical-index-object\n",
      "\n",
      "new_index = pd.MultiIndex.from_product([list(names), list(sexes)],\n",
      "                           names=['name','sex'])\n",
      "new_index"
     ],
     "language": "python",
     "metadata": {},
     "outputs": [
      {
       "metadata": {},
       "output_type": "pyout",
       "prompt_number": 5,
       "text": [
        "MultiIndex(levels=[[u'Jane', u'John', u'Pat'], [u'F', u'M']],\n",
        "           labels=[[0, 0, 1, 1, 2, 2], [1, 0, 1, 0, 1, 0]],\n",
        "           names=[u'name', u'sex'])"
       ]
      }
     ],
     "prompt_number": 5
    },
    {
     "cell_type": "code",
     "collapsed": false,
     "input": [
      "# http://pandas.pydata.org/pandas-docs/stable/generated/pandas.DataFrame.reindex.html\n",
      "\n",
      "pt.T.reindex(new_index).T"
     ],
     "language": "python",
     "metadata": {},
     "outputs": [
      {
       "html": [
        "<div style=\"max-height:1000px;max-width:1500px;overflow:auto;\">\n",
        "<table border=\"1\" class=\"dataframe\">\n",
        "  <thead>\n",
        "    <tr>\n",
        "      <th>name</th>\n",
        "      <th colspan=\"2\" halign=\"left\">Jane</th>\n",
        "      <th colspan=\"2\" halign=\"left\">John</th>\n",
        "      <th colspan=\"2\" halign=\"left\">Pat</th>\n",
        "    </tr>\n",
        "    <tr>\n",
        "      <th>sex</th>\n",
        "      <th>M</th>\n",
        "      <th>F</th>\n",
        "      <th>M</th>\n",
        "      <th>F</th>\n",
        "      <th>M</th>\n",
        "      <th>F</th>\n",
        "    </tr>\n",
        "    <tr>\n",
        "      <th>year</th>\n",
        "      <th></th>\n",
        "      <th></th>\n",
        "      <th></th>\n",
        "      <th></th>\n",
        "      <th></th>\n",
        "      <th></th>\n",
        "    </tr>\n",
        "  </thead>\n",
        "  <tbody>\n",
        "    <tr>\n",
        "      <th>1880</th>\n",
        "      <td>NaN</td>\n",
        "      <td> 20</td>\n",
        "      <td> 13</td>\n",
        "      <td>NaN</td>\n",
        "      <td> 13</td>\n",
        "      <td> 13</td>\n",
        "    </tr>\n",
        "    <tr>\n",
        "      <th>1881</th>\n",
        "      <td>NaN</td>\n",
        "      <td> 21</td>\n",
        "      <td> 90</td>\n",
        "      <td>NaN</td>\n",
        "      <td>NaN</td>\n",
        "      <td>NaN</td>\n",
        "    </tr>\n",
        "  </tbody>\n",
        "</table>\n",
        "<p>2 rows \u00d7 6 columns</p>\n",
        "</div>"
       ],
       "metadata": {},
       "output_type": "pyout",
       "prompt_number": 6,
       "text": [
        "name  Jane      John      Pat    \n",
        "sex      M   F     M   F    M   F\n",
        "year                             \n",
        "1880   NaN  20    13 NaN   13  13\n",
        "1881   NaN  21    90 NaN  NaN NaN\n",
        "\n",
        "[2 rows x 6 columns]"
       ]
      }
     ],
     "prompt_number": 6
    },
    {
     "cell_type": "code",
     "collapsed": false,
     "input": [
      "pt.T.reindex(new_index).T.fillna(0)"
     ],
     "language": "python",
     "metadata": {},
     "outputs": [
      {
       "html": [
        "<div style=\"max-height:1000px;max-width:1500px;overflow:auto;\">\n",
        "<table border=\"1\" class=\"dataframe\">\n",
        "  <thead>\n",
        "    <tr>\n",
        "      <th>name</th>\n",
        "      <th colspan=\"2\" halign=\"left\">Jane</th>\n",
        "      <th colspan=\"2\" halign=\"left\">John</th>\n",
        "      <th colspan=\"2\" halign=\"left\">Pat</th>\n",
        "    </tr>\n",
        "    <tr>\n",
        "      <th>sex</th>\n",
        "      <th>M</th>\n",
        "      <th>F</th>\n",
        "      <th>M</th>\n",
        "      <th>F</th>\n",
        "      <th>M</th>\n",
        "      <th>F</th>\n",
        "    </tr>\n",
        "    <tr>\n",
        "      <th>year</th>\n",
        "      <th></th>\n",
        "      <th></th>\n",
        "      <th></th>\n",
        "      <th></th>\n",
        "      <th></th>\n",
        "      <th></th>\n",
        "    </tr>\n",
        "  </thead>\n",
        "  <tbody>\n",
        "    <tr>\n",
        "      <th>1880</th>\n",
        "      <td> 0</td>\n",
        "      <td> 20</td>\n",
        "      <td> 13</td>\n",
        "      <td> 0</td>\n",
        "      <td> 13</td>\n",
        "      <td> 13</td>\n",
        "    </tr>\n",
        "    <tr>\n",
        "      <th>1881</th>\n",
        "      <td> 0</td>\n",
        "      <td> 21</td>\n",
        "      <td> 90</td>\n",
        "      <td> 0</td>\n",
        "      <td>  0</td>\n",
        "      <td>  0</td>\n",
        "    </tr>\n",
        "  </tbody>\n",
        "</table>\n",
        "<p>2 rows \u00d7 6 columns</p>\n",
        "</div>"
       ],
       "metadata": {},
       "output_type": "pyout",
       "prompt_number": 7,
       "text": [
        "name  Jane      John     Pat    \n",
        "sex      M   F     M  F    M   F\n",
        "year                            \n",
        "1880     0  20    13  0   13  13\n",
        "1881     0  21    90  0    0   0\n",
        "\n",
        "[2 rows x 6 columns]"
       ]
      }
     ],
     "prompt_number": 7
    }
   ],
   "metadata": {}
  }
 ]
}